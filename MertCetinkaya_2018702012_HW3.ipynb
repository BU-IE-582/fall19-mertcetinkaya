{
 "cells": [
  {
   "cell_type": "markdown",
   "metadata": {},
   "source": [
    "# IE 582 - MERT ÇETİNKAYA - 2018702012 - HOMEWORK3"
   ]
  },
  {
   "cell_type": "markdown",
   "metadata": {},
   "source": [
    "# Task a"
   ]
  },
  {
   "cell_type": "markdown",
   "metadata": {},
   "source": [
    "Under this title (Task a), we are going to do the things related to the task a and general starting operations (reading the data, checking healthiness of the data etc.) on our data. "
   ]
  },
  {
   "cell_type": "code",
   "execution_count": 1,
   "metadata": {},
   "outputs": [
    {
     "data": {
      "text/html": [
       "<table>\n",
       "<thead><tr><th scope=col>Tarih</th><th scope=col>Saat</th><th scope=col>Tüketim.Miktarı..MWh.</th></tr></thead>\n",
       "<tbody>\n",
       "\t<tr><td>01.01.2016</td><td>00:00     </td><td>26.277,24 </td></tr>\n",
       "\t<tr><td>01.01.2016</td><td>01:00     </td><td>24.991,82 </td></tr>\n",
       "\t<tr><td>01.01.2016</td><td>02:00     </td><td>23.532,61 </td></tr>\n",
       "\t<tr><td>01.01.2016</td><td>03:00     </td><td>22.464,78 </td></tr>\n",
       "\t<tr><td>01.01.2016</td><td>04:00     </td><td>22.002,91 </td></tr>\n",
       "\t<tr><td>01.01.2016</td><td>05:00     </td><td>21.957,08 </td></tr>\n",
       "</tbody>\n",
       "</table>\n"
      ],
      "text/latex": [
       "\\begin{tabular}{r|lll}\n",
       " Tarih & Saat & Tüketim.Miktarı..MWh.\\\\\n",
       "\\hline\n",
       "\t 01.01.2016 & 00:00      & 26.277,24 \\\\\n",
       "\t 01.01.2016 & 01:00      & 24.991,82 \\\\\n",
       "\t 01.01.2016 & 02:00      & 23.532,61 \\\\\n",
       "\t 01.01.2016 & 03:00      & 22.464,78 \\\\\n",
       "\t 01.01.2016 & 04:00      & 22.002,91 \\\\\n",
       "\t 01.01.2016 & 05:00      & 21.957,08 \\\\\n",
       "\\end{tabular}\n"
      ],
      "text/markdown": [
       "\n",
       "| Tarih | Saat | Tüketim.Miktarı..MWh. |\n",
       "|---|---|---|\n",
       "| 01.01.2016 | 00:00      | 26.277,24  |\n",
       "| 01.01.2016 | 01:00      | 24.991,82  |\n",
       "| 01.01.2016 | 02:00      | 23.532,61  |\n",
       "| 01.01.2016 | 03:00      | 22.464,78  |\n",
       "| 01.01.2016 | 04:00      | 22.002,91  |\n",
       "| 01.01.2016 | 05:00      | 21.957,08  |\n",
       "\n"
      ],
      "text/plain": [
       "  Tarih      Saat  Tüketim.Miktarı..MWh.\n",
       "1 01.01.2016 00:00 26.277,24            \n",
       "2 01.01.2016 01:00 24.991,82            \n",
       "3 01.01.2016 02:00 23.532,61            \n",
       "4 01.01.2016 03:00 22.464,78            \n",
       "5 01.01.2016 04:00 22.002,91            \n",
       "6 01.01.2016 05:00 21.957,08            "
      ]
     },
     "metadata": {},
     "output_type": "display_data"
    }
   ],
   "source": [
    "#Here, we set our seed for reproducibility. We also read our data and print the first rows. Our data is between 1st of \n",
    "#January, 2016 and 21st of November, 2019. In this dataset, the data until November 2019 will be used as training data\n",
    "#and the data which belongs to November 2019 will be used as test data.\n",
    "set.seed(1)\n",
    "consumption=read.csv2(file = 'C:/Users/mertc/Desktop/boun/2019fall/data_mining/week7/hw3/data/GercekZamanliTuketim-01012016-21112019.csv', sep=\",\",stringsAsFactors = F)\n",
    "head(consumption)"
   ]
  },
  {
   "cell_type": "code",
   "execution_count": 2,
   "metadata": {},
   "outputs": [
    {
     "name": "stderr",
     "output_type": "stream",
     "text": [
      "\n",
      "Attaching package: 'dplyr'\n",
      "\n",
      "The following objects are masked from 'package:stats':\n",
      "\n",
      "    filter, lag\n",
      "\n",
      "The following objects are masked from 'package:base':\n",
      "\n",
      "    intersect, setdiff, setequal, union\n",
      "\n"
     ]
    },
    {
     "data": {
      "text/html": [
       "<table>\n",
       "<thead><tr><th scope=col>Tarih</th><th scope=col>count</th></tr></thead>\n",
       "<tbody>\n",
       "\t<tr><td>01.01.2016</td><td>24        </td></tr>\n",
       "\t<tr><td>01.01.2017</td><td>24        </td></tr>\n",
       "\t<tr><td>01.01.2018</td><td>24        </td></tr>\n",
       "\t<tr><td>01.01.2019</td><td>24        </td></tr>\n",
       "\t<tr><td>01.02.2016</td><td>24        </td></tr>\n",
       "\t<tr><td>01.02.2017</td><td>24        </td></tr>\n",
       "</tbody>\n",
       "</table>\n"
      ],
      "text/latex": [
       "\\begin{tabular}{r|ll}\n",
       " Tarih & count\\\\\n",
       "\\hline\n",
       "\t 01.01.2016 & 24        \\\\\n",
       "\t 01.01.2017 & 24        \\\\\n",
       "\t 01.01.2018 & 24        \\\\\n",
       "\t 01.01.2019 & 24        \\\\\n",
       "\t 01.02.2016 & 24        \\\\\n",
       "\t 01.02.2017 & 24        \\\\\n",
       "\\end{tabular}\n"
      ],
      "text/markdown": [
       "\n",
       "| Tarih | count |\n",
       "|---|---|\n",
       "| 01.01.2016 | 24         |\n",
       "| 01.01.2017 | 24         |\n",
       "| 01.01.2018 | 24         |\n",
       "| 01.01.2019 | 24         |\n",
       "| 01.02.2016 | 24         |\n",
       "| 01.02.2017 | 24         |\n",
       "\n"
      ],
      "text/plain": [
       "  Tarih      count\n",
       "1 01.01.2016 24   \n",
       "2 01.01.2017 24   \n",
       "3 01.01.2018 24   \n",
       "4 01.01.2019 24   \n",
       "5 01.02.2016 24   \n",
       "6 01.02.2017 24   "
      ]
     },
     "metadata": {},
     "output_type": "display_data"
    },
    {
     "name": "stdout",
     "output_type": "stream",
     "text": [
      "[1] \"Unique count value(s) for each day: 24\"\n",
      "[1] \"Is there any na consumption value? FALSE\"\n"
     ]
    }
   ],
   "source": [
    "#Let's check if there is any missing consumption value.\n",
    "#Firstly, we look at day by day. We group by date and count the number of distinct hour values.\n",
    "library(dplyr)\n",
    "g=consumption %>% group_by(Tarih) %>% summarise(count=n_distinct(Saat))\n",
    "head(g)\n",
    "print(paste(\"Unique count value(s) for each day: \",unique(g$count),sep=\"\"))\n",
    "print(paste(\"Is there any na consumption value? \",any(is.na(consumption[,3])),sep=\"\"))"
   ]
  },
  {
   "cell_type": "markdown",
   "metadata": {},
   "source": [
    "We see that there are 24 distinct hour values for each day. We assume that these hour values for each day are healthly ordered. We also see that there is not any na value as consumption quantity"
   ]
  },
  {
   "cell_type": "code",
   "execution_count": 3,
   "metadata": {},
   "outputs": [
    {
     "name": "stdout",
     "output_type": "stream",
     "text": [
      "[1] \"27.03.2016 is missing.\"\n",
      "[1] \"29.02.2017 is missing.\"\n",
      "[1] \"29.02.2018 is missing.\"\n",
      "[1] \"29.02.2019 is missing.\"\n",
      "[1] \"30.02.2016 is missing.\"\n",
      "[1] \"30.02.2017 is missing.\"\n",
      "[1] \"30.02.2018 is missing.\"\n",
      "[1] \"30.02.2019 is missing.\"\n",
      "[1] \"31.02.2016 is missing.\"\n",
      "[1] \"31.02.2017 is missing.\"\n",
      "[1] \"31.02.2018 is missing.\"\n",
      "[1] \"31.02.2019 is missing.\"\n",
      "[1] \"31.04.2016 is missing.\"\n",
      "[1] \"31.04.2017 is missing.\"\n",
      "[1] \"31.04.2018 is missing.\"\n",
      "[1] \"31.04.2019 is missing.\"\n",
      "[1] \"31.06.2016 is missing.\"\n",
      "[1] \"31.06.2017 is missing.\"\n",
      "[1] \"31.06.2018 is missing.\"\n",
      "[1] \"31.06.2019 is missing.\"\n",
      "[1] \"31.09.2016 is missing.\"\n",
      "[1] \"31.09.2017 is missing.\"\n",
      "[1] \"31.09.2018 is missing.\"\n",
      "[1] \"31.09.2019 is missing.\"\n",
      "[1] \"31.11.2016 is missing.\"\n",
      "[1] \"31.11.2017 is missing.\"\n",
      "[1] \"31.11.2018 is missing.\"\n"
     ]
    }
   ],
   "source": [
    "#Let's also check if there is any missing day. We again continue from our g table which has recently been produced and print\n",
    "#the missing days between 1st of January, 2016 and 21st of November, 2019.\n",
    "for (i in 1:31){\n",
    "    for (j in 1:12){\n",
    "        for (k in 2016:2019){\n",
    "            if((j<11 | k<2019) | (i<=21 & j==11 & k==2019)){\n",
    "                if(i<10){ii=paste(\"0\",as.character(i),sep=\"\")}else{ii=as.character(i)}\n",
    "                if(j<10){jj=paste(\"0\",as.character(j),sep=\"\")}else{jj=as.character(j)}\n",
    "                kk=as.character(k)\n",
    "                if(paste(ii,\".\",jj,\".\",kk,sep=\"\") %in% g$Tarih == FALSE){\n",
    "                    print(paste(ii,\".\",jj,\".\",kk,\" is missing.\",sep=\"\"))\n",
    "                }\n",
    "            }\n",
    "        }\n",
    "    }\n",
    "}"
   ]
  },
  {
   "cell_type": "markdown",
   "metadata": {},
   "source": [
    "In the above output we see the missing days in our data. When we check them visually we see that the first output which is 27th of March, 2016 is a real day and the data of this day is fully missing. The other missing days (other outputs above) must be missing because they are not real calendar days. Here, we must somehow handle the missing data problem of 27th of March, 2016. "
   ]
  },
  {
   "cell_type": "code",
   "execution_count": 4,
   "metadata": {},
   "outputs": [],
   "source": [
    "#27th of March, 2016 is sunday.\n",
    "#In order to handle this missing data problem, as a very simple approach, let's assume that the consumption behaviour of this\n",
    "#sunday will be the same with the consumption behaviour of the previous sunday (20th of March, 2016).\n",
    "#So, let's assign the values of 20th of March, 2016 to 27th of March, 2016.\n",
    "\n",
    "#With trial and error, I found that 2064th of the line is the last line for 26th of March, 2016 and 2065th one is the first\n",
    "#line for 28th of March, 2016. I also found that the lines between 1897th and 1920th lines belong to 20th of March, 2016.\n",
    "#Let's reproduce our consumption table as the following.\n",
    "#With the following codes we insert the date 27th of March, 2016 into the right place equating its values to the values of\n",
    "#20th of March, 2016.\n",
    "\n",
    "consumption1=consumption[1:2064,]\n",
    "consumption3=consumption[2065:nrow(consumption),]\n",
    "consumption2=consumption[1897:1920,]\n",
    "consumption2$Tarih=\"27.03.2016\"\n",
    "consumption=rbind(consumption1,consumption2,consumption3)"
   ]
  },
  {
   "cell_type": "code",
   "execution_count": 5,
   "metadata": {},
   "outputs": [
    {
     "data": {
      "text/html": [
       "<table>\n",
       "<thead><tr><th scope=col>Tarih</th><th scope=col>Saat</th><th scope=col>Tüketim.Miktarı..MWh.</th><th scope=col>Hour</th><th scope=col>Day</th><th scope=col>Observation</th></tr></thead>\n",
       "<tbody>\n",
       "\t<tr><td>01.01.2016</td><td>00:00     </td><td>26.277,24 </td><td>0         </td><td>5         </td><td>1         </td></tr>\n",
       "\t<tr><td>01.01.2016</td><td>01:00     </td><td>24.991,82 </td><td>1         </td><td>5         </td><td>2         </td></tr>\n",
       "\t<tr><td>01.01.2016</td><td>02:00     </td><td>23.532,61 </td><td>2         </td><td>5         </td><td>3         </td></tr>\n",
       "\t<tr><td>01.01.2016</td><td>03:00     </td><td>22.464,78 </td><td>3         </td><td>5         </td><td>4         </td></tr>\n",
       "\t<tr><td>01.01.2016</td><td>04:00     </td><td>22.002,91 </td><td>4         </td><td>5         </td><td>5         </td></tr>\n",
       "\t<tr><td>01.01.2016</td><td>05:00     </td><td>21.957,08 </td><td>5         </td><td>5         </td><td>6         </td></tr>\n",
       "</tbody>\n",
       "</table>\n"
      ],
      "text/latex": [
       "\\begin{tabular}{r|llllll}\n",
       " Tarih & Saat & Tüketim.Miktarı..MWh. & Hour & Day & Observation\\\\\n",
       "\\hline\n",
       "\t 01.01.2016 & 00:00      & 26.277,24  & 0          & 5          & 1         \\\\\n",
       "\t 01.01.2016 & 01:00      & 24.991,82  & 1          & 5          & 2         \\\\\n",
       "\t 01.01.2016 & 02:00      & 23.532,61  & 2          & 5          & 3         \\\\\n",
       "\t 01.01.2016 & 03:00      & 22.464,78  & 3          & 5          & 4         \\\\\n",
       "\t 01.01.2016 & 04:00      & 22.002,91  & 4          & 5          & 5         \\\\\n",
       "\t 01.01.2016 & 05:00      & 21.957,08  & 5          & 5          & 6         \\\\\n",
       "\\end{tabular}\n"
      ],
      "text/markdown": [
       "\n",
       "| Tarih | Saat | Tüketim.Miktarı..MWh. | Hour | Day | Observation |\n",
       "|---|---|---|---|---|---|\n",
       "| 01.01.2016 | 00:00      | 26.277,24  | 0          | 5          | 1          |\n",
       "| 01.01.2016 | 01:00      | 24.991,82  | 1          | 5          | 2          |\n",
       "| 01.01.2016 | 02:00      | 23.532,61  | 2          | 5          | 3          |\n",
       "| 01.01.2016 | 03:00      | 22.464,78  | 3          | 5          | 4          |\n",
       "| 01.01.2016 | 04:00      | 22.002,91  | 4          | 5          | 5          |\n",
       "| 01.01.2016 | 05:00      | 21.957,08  | 5          | 5          | 6          |\n",
       "\n"
      ],
      "text/plain": [
       "  Tarih      Saat  Tüketim.Miktarı..MWh. Hour Day Observation\n",
       "1 01.01.2016 00:00 26.277,24             0    5   1          \n",
       "2 01.01.2016 01:00 24.991,82             1    5   2          \n",
       "3 01.01.2016 02:00 23.532,61             2    5   3          \n",
       "4 01.01.2016 03:00 22.464,78             3    5   4          \n",
       "5 01.01.2016 04:00 22.002,91             4    5   5          \n",
       "6 01.01.2016 05:00 21.957,08             5    5   6          "
      ]
     },
     "metadata": {},
     "output_type": "display_data"
    }
   ],
   "source": [
    "#Let's organise our consumption table a bit.\n",
    "#We add hour of the day, day number of the week and observation number for each row to our data.\n",
    "#01.01.2016 is friday. That's why Day is assigned as 5 at the beginning.\n",
    "#We also print the first rows of our data\n",
    "consumption['Hour']=0\n",
    "i=0\n",
    "for (j in 1:nrow(consumption)){\n",
    "    consumption[j,4]= i%%24\n",
    "    i=i+1\n",
    "}\n",
    "consumption['Day']=0\n",
    "i=4\n",
    "for (j in 1:nrow(consumption)){\n",
    "    if(consumption[j,4]==0){\n",
    "        i=i+1\n",
    "        if(i==8){i=1}\n",
    "    }\n",
    "    consumption[j,5]= i\n",
    "}\n",
    "consumption['Observation']=1:nrow(consumption)\n",
    "head(consumption)"
   ]
  },
  {
   "cell_type": "code",
   "execution_count": 6,
   "metadata": {
    "scrolled": true
   },
   "outputs": [
    {
     "data": {
      "text/html": [
       "<table>\n",
       "<thead><tr><th scope=col>Tarih</th><th scope=col>Saat</th><th scope=col>Tüketim.Miktarı..MWh.</th><th scope=col>Hour</th><th scope=col>Day</th><th scope=col>Observation</th><th scope=col>48HLater</th><th scope=col>168HLater</th></tr></thead>\n",
       "<tbody>\n",
       "\t<tr><td>01.01.2016</td><td>00:00     </td><td>26277.24  </td><td>0         </td><td>5         </td><td>1         </td><td>27613.96  </td><td>28602.02  </td></tr>\n",
       "\t<tr><td>01.01.2016</td><td>01:00     </td><td>24991.82  </td><td>1         </td><td>5         </td><td>2         </td><td>25779.28  </td><td>27112.37  </td></tr>\n",
       "\t<tr><td>01.01.2016</td><td>02:00     </td><td>23532.61  </td><td>2         </td><td>5         </td><td>3         </td><td>24566.31  </td><td>25975.34  </td></tr>\n",
       "\t<tr><td>01.01.2016</td><td>03:00     </td><td>22464.78  </td><td>3         </td><td>5         </td><td>4         </td><td>23878.42  </td><td>25315.55  </td></tr>\n",
       "\t<tr><td>01.01.2016</td><td>04:00     </td><td>22002.91  </td><td>4         </td><td>5         </td><td>5         </td><td>23511.38  </td><td>25128.15  </td></tr>\n",
       "\t<tr><td>01.01.2016</td><td>05:00     </td><td>21957.08  </td><td>5         </td><td>5         </td><td>6         </td><td>23672.32  </td><td>25356.22  </td></tr>\n",
       "</tbody>\n",
       "</table>\n"
      ],
      "text/latex": [
       "\\begin{tabular}{r|llllllll}\n",
       " Tarih & Saat & Tüketim.Miktarı..MWh. & Hour & Day & Observation & 48HLater & 168HLater\\\\\n",
       "\\hline\n",
       "\t 01.01.2016 & 00:00      & 26277.24   & 0          & 5          & 1          & 27613.96   & 28602.02  \\\\\n",
       "\t 01.01.2016 & 01:00      & 24991.82   & 1          & 5          & 2          & 25779.28   & 27112.37  \\\\\n",
       "\t 01.01.2016 & 02:00      & 23532.61   & 2          & 5          & 3          & 24566.31   & 25975.34  \\\\\n",
       "\t 01.01.2016 & 03:00      & 22464.78   & 3          & 5          & 4          & 23878.42   & 25315.55  \\\\\n",
       "\t 01.01.2016 & 04:00      & 22002.91   & 4          & 5          & 5          & 23511.38   & 25128.15  \\\\\n",
       "\t 01.01.2016 & 05:00      & 21957.08   & 5          & 5          & 6          & 23672.32   & 25356.22  \\\\\n",
       "\\end{tabular}\n"
      ],
      "text/markdown": [
       "\n",
       "| Tarih | Saat | Tüketim.Miktarı..MWh. | Hour | Day | Observation | 48HLater | 168HLater |\n",
       "|---|---|---|---|---|---|---|---|\n",
       "| 01.01.2016 | 00:00      | 26277.24   | 0          | 5          | 1          | 27613.96   | 28602.02   |\n",
       "| 01.01.2016 | 01:00      | 24991.82   | 1          | 5          | 2          | 25779.28   | 27112.37   |\n",
       "| 01.01.2016 | 02:00      | 23532.61   | 2          | 5          | 3          | 24566.31   | 25975.34   |\n",
       "| 01.01.2016 | 03:00      | 22464.78   | 3          | 5          | 4          | 23878.42   | 25315.55   |\n",
       "| 01.01.2016 | 04:00      | 22002.91   | 4          | 5          | 5          | 23511.38   | 25128.15   |\n",
       "| 01.01.2016 | 05:00      | 21957.08   | 5          | 5          | 6          | 23672.32   | 25356.22   |\n",
       "\n"
      ],
      "text/plain": [
       "  Tarih      Saat  Tüketim.Miktarı..MWh. Hour Day Observation 48HLater\n",
       "1 01.01.2016 00:00 26277.24              0    5   1           27613.96\n",
       "2 01.01.2016 01:00 24991.82              1    5   2           25779.28\n",
       "3 01.01.2016 02:00 23532.61              2    5   3           24566.31\n",
       "4 01.01.2016 03:00 22464.78              3    5   4           23878.42\n",
       "5 01.01.2016 04:00 22002.91              4    5   5           23511.38\n",
       "6 01.01.2016 05:00 21957.08              5    5   6           23672.32\n",
       "  168HLater\n",
       "1 28602.02 \n",
       "2 27112.37 \n",
       "3 25975.34 \n",
       "4 25315.55 \n",
       "5 25128.15 \n",
       "6 25356.22 "
      ]
     },
     "metadata": {},
     "output_type": "display_data"
    }
   ],
   "source": [
    "#We change the format of consumption quantity to be able to convert it to number in a healthy way. \n",
    "#We delete . and replace , with .\n",
    "#We also add the consumption value for each row after 48 hours and 168 hours and print the first rows of our data.\n",
    "consumption[,3]=as.numeric(gsub(\",\",\".\",gsub(\".\", \"\", consumption[,3],fixed =T),fixed=T))\n",
    "consumption['48HLater']=0\n",
    "consumption['168HLater']=0\n",
    "i=49\n",
    "for(i in 49:nrow(consumption)){\n",
    "    consumption[i-48,7]=as.numeric(consumption[i,3])\n",
    "}\n",
    "i=169\n",
    "for(i in 169:nrow(consumption)){\n",
    "    consumption[i-168,8]=as.numeric(consumption[i,3])\n",
    "}\n",
    "head(consumption)"
   ]
  },
  {
   "cell_type": "code",
   "execution_count": 7,
   "metadata": {
    "scrolled": false
   },
   "outputs": [
    {
     "data": {
      "image/png": "[encoded data removed]",
      "text/plain": [
       "Plot with title \"Consumption\""
      ]
     },
     "metadata": {},
     "output_type": "display_data"
    },
    {
     "data": {
      "image/png": "[encoded data removed]",
      "text/plain": [
       "Plot with title \"Consumption\""
      ]
     },
     "metadata": {},
     "output_type": "display_data"
    },
    {
     "data": {
      "image/png": "[encoded data removed]",
      "text/plain": [
       "Plot with title \"Consumption\""
      ]
     },
     "metadata": {},
     "output_type": "display_data"
    }
   ],
   "source": [
    "#We draw three plots about our consumption values to have an insight. We see that their mean is around 30000-35000 \n",
    "#and the minimum and maximum values are around 20000 and 45000 during our whole period according to the first two graphs.\n",
    "#The third graph shows the average consumption value for each hour in a day. We see that especially in afternoon and evening\n",
    "#this value becomes the biggest.\n",
    "plot(consumption[,3],type=\"l\",col=2,main=\"Consumption\",xlab=\"Count\",ylab=\"Values\")\n",
    "boxplot(consumption[,3],main=\"Consumption\")\n",
    "plot(consumption[,c(3,4)] %>% group_by(Hour) %>% summarise_all(\"mean\"),type=\"l\",col=2,main=\"Consumption\",xlab=\"Hour\"\n",
    "     ,ylab=\"Hourly Average\")"
   ]
  },
  {
   "cell_type": "code",
   "execution_count": 8,
   "metadata": {},
   "outputs": [
    {
     "name": "stdout",
     "output_type": "stream",
     "text": [
      "[1] \"MAPE for naive approach with 48 hours is  7.88542230867725\"\n"
     ]
    }
   ],
   "source": [
    "#Here we define the observation numbers (boundaries) that we are going to use in our train and test data and produce these data \n",
    "#according to these numbers. Generally, we use consumption values as y and consumption values of 48 hours ago as x in our train \n",
    "#and test data.\n",
    "train_y_obs1=49\n",
    "train_y_obs2=consumption[(consumption$Tarih=='31.10.2019') & (consumption$Saat=='23:00'),'Observation']\n",
    "train_x_obs1=1\n",
    "train_x_obs2=train_y_obs2-48\n",
    "train_x=consumption[(train_x_obs1 <= consumption$Observation) & (consumption$Observation <= train_x_obs2),3]\n",
    "train_y=consumption[(train_y_obs1 <= consumption$Observation) & (consumption$Observation <= train_y_obs2),3]\n",
    "\n",
    "test_y_obs1=train_y_obs2+49\n",
    "test_y_obs2=max(consumption$Observation)\n",
    "test_x_obs1=train_y_obs2+1\n",
    "test_x_obs2=test_y_obs2-48\n",
    "test_x=consumption[(test_x_obs1 <= consumption$Observation) & (consumption$Observation <= test_x_obs2),3]\n",
    "test_y=consumption[(test_y_obs1 <= consumption$Observation) & (consumption$Observation <= test_y_obs2),3]\n",
    "\n",
    "#We produce our linear regression model and make our predictions with our test data.\n",
    "model=lm(train_y ~ train_x)\n",
    "prediction_y=predict(model,data.frame(train_x=test_x))\n",
    "#We find our mape values for our prediction.\n",
    "mape_48h=(sum(abs((as.data.frame(prediction_y) - as.data.frame(test_y)) / as.data.frame(test_y)))/length(test_y)) * 100\n",
    "print(paste('MAPE for naive approach with 48 hours is ',mape_48h))\n",
    "#We keep our model as model_48h.\n",
    "model_48h=model"
   ]
  },
  {
   "cell_type": "code",
   "execution_count": 9,
   "metadata": {},
   "outputs": [],
   "source": [
    "#Let's put mape values in a vector for each hour in the test period.\n",
    "mape_48h_list=vector()\n",
    "for (i in 1:24){\n",
    "    mape=(sum(abs((as.data.frame(prediction_y[seq(i,length(prediction_y),24)]) - as.data.frame(test_y[seq(i,length(prediction_y),24)])) / as.data.frame(test_y[seq(i,length(prediction_y),24)])))/length(test_y[seq(i,length(prediction_y),24)])) * 100\n",
    "    mape_48h_list=c(mape_48h_list,mape)\n",
    "}"
   ]
  },
  {
   "cell_type": "code",
   "execution_count": 10,
   "metadata": {},
   "outputs": [
    {
     "name": "stdout",
     "output_type": "stream",
     "text": [
      "[1] \"The mean for MAPE values for each hour over the test period is 7.88542230867725. This is consistent with the result found above.\"\n"
     ]
    },
    {
     "data": {
      "image/png": "[encoded data removed]",
      "text/plain": [
       "Plot with title \"MAPE values\""
      ]
     },
     "metadata": {},
     "output_type": "display_data"
    }
   ],
   "source": [
    "#Let's check the consistency between mean of these mape values and the mape value found above. They must be equal.\n",
    "#Let's also draw a boxplot diagram for these mape values.\n",
    "print(paste0(\"The mean for MAPE values for each hour over the test period is \",mean(mape_48h_list),\". This is consistent with the result found above.\"))\n",
    "boxplot(mape_48h_list,main=\"MAPE values\")"
   ]
  },
  {
   "cell_type": "code",
   "execution_count": 11,
   "metadata": {},
   "outputs": [
    {
     "name": "stdout",
     "output_type": "stream",
     "text": [
      "[1] \"MAPE for naive approach with 168 hours is  2.33317139964258\"\n"
     ]
    }
   ],
   "source": [
    "#Here we define the observation numbers (boundaries) that we are going to use in our train and test data and produce these data \n",
    "#according to these numbers. Generally, we use consumption values as y and consumption values of 168 hours ago as x in our train \n",
    "#and test data.\n",
    "train_y_obs1=169\n",
    "train_y_obs2=consumption[(consumption$Tarih=='31.10.2019') & (consumption$Saat=='23:00'),'Observation']\n",
    "train_x_obs1=1\n",
    "train_x_obs2=train_y_obs2-168\n",
    "train_x=consumption[(train_x_obs1 <= consumption$Observation) & (consumption$Observation <= train_x_obs2),3]\n",
    "train_y=consumption[(train_y_obs1 <= consumption$Observation) & (consumption$Observation <= train_y_obs2),3]\n",
    "\n",
    "test_y_obs1=train_y_obs2+169\n",
    "test_y_obs2=max(consumption$Observation)\n",
    "test_x_obs1=train_y_obs2+1\n",
    "test_x_obs2=test_y_obs2-168\n",
    "test_x=consumption[(test_x_obs1 <= consumption$Observation) & (consumption$Observation <= test_x_obs2),3]\n",
    "test_y=consumption[(test_y_obs1 <= consumption$Observation) & (consumption$Observation <= test_y_obs2),3]\n",
    "\n",
    "#We produce our linear regression model and make our predictions with our test data.\n",
    "model=lm(train_y ~ train_x)\n",
    "prediction_y=predict(model,data.frame(train_x=test_x))\n",
    "#We find our mape values for our prediction.\n",
    "mape_168h=(sum(abs((as.data.frame(prediction_y) - as.data.frame(test_y)) / as.data.frame(test_y)))/length(test_y)) * 100\n",
    "print(paste('MAPE for naive approach with 168 hours is ',mape_168h))\n",
    "#We keep our model as model_168h.\n",
    "model_168h=model"
   ]
  },
  {
   "cell_type": "code",
   "execution_count": 12,
   "metadata": {},
   "outputs": [],
   "source": [
    "#Let's put mape values in a vector for each hour in the test period.\n",
    "mape_168h_list=vector()\n",
    "for (i in 1:24){\n",
    "    mape=(sum(abs((as.data.frame(prediction_y[seq(i,length(prediction_y),24)]) - as.data.frame(test_y[seq(i,length(prediction_y),24)])) / as.data.frame(test_y[seq(i,length(prediction_y),24)])))/length(test_y[seq(i,length(prediction_y),24)])) * 100\n",
    "    mape_168h_list=c(mape_168h_list,mape)\n",
    "}"
   ]
  },
  {
   "cell_type": "code",
   "execution_count": 13,
   "metadata": {},
   "outputs": [
    {
     "name": "stdout",
     "output_type": "stream",
     "text": [
      "[1] \"The mean for MAPE values for each hour over the test period is 2.33317139964258. This is consistent with the result found above.\"\n"
     ]
    },
    {
     "data": {
      "image/png": "[encoded data removed]",
      "text/plain": [
       "Plot with title \"MAPE values\""
      ]
     },
     "metadata": {},
     "output_type": "display_data"
    }
   ],
   "source": [
    "#Let's check the consistency between mean of these mape values and the mape value found above. They must be equal.\n",
    "#Let's also draw a boxplot diagram for these mape values.\n",
    "print(paste0(\"The mean for MAPE values for each hour over the test period is \",mean(mape_168h_list),\". This is consistent with the result found above.\"))\n",
    "boxplot(mape_168h_list,main=\"MAPE values\")"
   ]
  },
  {
   "cell_type": "markdown",
   "metadata": {},
   "source": [
    "# Task b"
   ]
  },
  {
   "cell_type": "code",
   "execution_count": 14,
   "metadata": {},
   "outputs": [
    {
     "name": "stdout",
     "output_type": "stream",
     "text": [
      "[1] \"MAPE for the approach in task b is  3.4056487029514\"\n"
     ]
    }
   ],
   "source": [
    "#Let's again define the observation numbers (boundaries) that we are going to use while producing our training data.\n",
    "train_y_obs1=169\n",
    "train_y_obs2=consumption[(consumption$Tarih=='31.10.2019') & (consumption$Saat=='23:00'),'Observation']\n",
    "train_x2_obs1=1\n",
    "train_x2_obs2=train_y_obs2-168\n",
    "train_x1_obs1=121\n",
    "train_x1_obs2=train_y_obs2-48\n",
    "#We choose our training data for x1(data for 48 hours ago)\n",
    "train_x1=consumption[(train_x1_obs1 <= consumption$Observation) & (consumption$Observation <= train_x1_obs2),3]\n",
    "#We put this data into our previous model to use our forecast as feature. Here, we obtain our forecast.\n",
    "train_x1=predict(model_48h,data.frame(train_x=train_x1))\n",
    "#We choose our training data for x2(data for 168 hours ago)\n",
    "train_x2=consumption[(train_x2_obs1 <= consumption$Observation) & (consumption$Observation <= train_x2_obs2),3]\n",
    "#We put this data into our previous model to use our forecast as feature. Here, we obtain our forecast.\n",
    "train_x2=predict(model_168h,data.frame(train_x=train_x2))\n",
    "#We produce our target variable of training data.\n",
    "train_y=consumption[(train_y_obs1 <= consumption$Observation) & (consumption$Observation <= train_y_obs2),3]\n",
    "#We produce our new model. We use our forecast (train_x1, train_x2) as feature.\n",
    "model=lm(train_y ~ train_x1 + train_x2)\n",
    "\n",
    "#Let's again define the observation numbers that we are going to use while producing our test data.\n",
    "test_y_obs1=train_y_obs2+169\n",
    "test_y_obs2=max(consumption$Observation)\n",
    "test_x2_obs1=train_y_obs2+1\n",
    "test_x2_obs2=test_y_obs2-168\n",
    "test_x1_obs1=train_y_obs2+121\n",
    "test_x1_obs2=test_y_obs2-48\n",
    "\n",
    "#We choose our test data for x1(data for 48 hours ago)\n",
    "test_x1=consumption[(test_x1_obs1 <= consumption$Observation) & (consumption$Observation <= test_x1_obs2),3]\n",
    "#We put this data into our previous model to use our forecast as feature. Here, we obtain our forecast.\n",
    "test_x1=predict(model_48h,data.frame(train_x=test_x1))\n",
    "#We choose our test data for x2(data for 168 hours ago)\n",
    "test_x2=consumption[(test_x2_obs1 <= consumption$Observation) & (consumption$Observation <= test_x2_obs2),3]\n",
    "#We put this data into our previous model to use our forecast as feature. Here, we obtain our forecast.\n",
    "test_x2=predict(model_168h,data.frame(train_x=test_x2))\n",
    "#We produce our target variable of test data.\n",
    "test_y=consumption[(test_y_obs1 <= consumption$Observation) & (consumption$Observation <= test_y_obs2),3]\n",
    "\n",
    "#We make our prediction using our test data and the defined model above in this cell. We use our forecast (test_x1, test_x2)\n",
    "#as feature in this model.\n",
    "new.train_x1=data.frame(train_x1=test_x1)\n",
    "new.train_x2=data.frame(train_x2=test_x2)\n",
    "prediction_y=predict(model,newdata = c(new.train_x1,new.train_x2))\n",
    "\n",
    "#We find our mape value for our prediction.\n",
    "mape_task_b=(sum(abs((as.data.frame(prediction_y) - as.data.frame(test_y)) / as.data.frame(test_y)))/length(test_y)) * 100\n",
    "print(paste('MAPE for the approach in task b is ',mape_task_b))"
   ]
  },
  {
   "cell_type": "markdown",
   "metadata": {},
   "source": [
    "We see that MAPE value increased a bit compared to the MAPE value for naive approach with 168 hours."
   ]
  },
  {
   "cell_type": "code",
   "execution_count": 15,
   "metadata": {},
   "outputs": [],
   "source": [
    "#Let's put mape values in a vector for each hour in the test period.\n",
    "mape_task_b_list=vector()\n",
    "for (i in 1:24){\n",
    "    mape=(sum(abs((as.data.frame(prediction_y[seq(i,length(prediction_y),24)]) - as.data.frame(test_y[seq(i,length(prediction_y),24)])) / as.data.frame(test_y[seq(i,length(prediction_y),24)])))/length(test_y[seq(i,length(prediction_y),24)])) * 100\n",
    "    mape_task_b_list=c(mape_task_b_list,mape)\n",
    "}"
   ]
  },
  {
   "cell_type": "code",
   "execution_count": 16,
   "metadata": {},
   "outputs": [
    {
     "name": "stdout",
     "output_type": "stream",
     "text": [
      "[1] \"The mean for MAPE values for each hour over the test period is 3.4056487029514. This is consistent with the result found above.\"\n"
     ]
    },
    {
     "data": {
      "image/png": "[encoded data removed]",
      "text/plain": [
       "Plot with title \"MAPE values\""
      ]
     },
     "metadata": {},
     "output_type": "display_data"
    }
   ],
   "source": [
    "#Let's check the consistency between mean of these mape values and the mape value found above. They must be equal.\n",
    "#Let's also draw a boxplot diagram for these mape values.\n",
    "print(paste0(\"The mean for MAPE values for each hour over the test period is \",mean(mape_task_b_list),\". This is consistent with the result found above.\"))\n",
    "boxplot(mape_task_b_list,main=\"MAPE values\")"
   ]
  },
  {
   "cell_type": "markdown",
   "metadata": {},
   "source": [
    "# Task c"
   ]
  },
  {
   "cell_type": "code",
   "execution_count": 17,
   "metadata": {},
   "outputs": [],
   "source": [
    "#Let's define the observation numbers (boundaries) that we are going to use while producing our training data for our model \n",
    "#of 48 hours ago.\n",
    "train_y_obs1=49\n",
    "train_y_obs2=consumption[(consumption$Tarih=='31.10.2019') & (consumption$Saat=='23:00'),'Observation']\n",
    "train_x_obs1=1\n",
    "train_x_obs2=train_y_obs2-48\n",
    "train_x=consumption[(train_x_obs1 <= consumption$Observation) & (consumption$Observation <= train_x_obs2),3]\n",
    "train_y=consumption[(train_y_obs1 <= consumption$Observation) & (consumption$Observation <= train_y_obs2),3]\n",
    "#Let's extract our 24 training data (training data for each hour) from our training data produced above.\n",
    "for (i in 1:24){\n",
    "    assign(paste(\"train_x_\", i, sep=\"\"),train_x[seq(i,length(train_x),24)])\n",
    "    assign(paste(\"train_y_\", i, sep=\"\"),train_y[seq(i,length(train_y),24)])\n",
    "}\n",
    "\n",
    "#Let's define the observation numbers (boundaries) that we are going to use while producing our test data for our model \n",
    "#of 48 hours ago.\n",
    "test_y_obs1=train_y_obs2+49\n",
    "test_y_obs2=max(consumption$Observation)\n",
    "test_x_obs1=train_y_obs2+1\n",
    "test_x_obs2=test_y_obs2-48\n",
    "test_x=consumption[(test_x_obs1 <= consumption$Observation) & (consumption$Observation <= test_x_obs2),3]\n",
    "test_y=consumption[(test_y_obs1 <= consumption$Observation) & (consumption$Observation <= test_y_obs2),3]\n",
    "\n",
    "#Let's extract our 24 test data (test data for each hour) from our test data produced above.\n",
    "for (i in 1:24){\n",
    "    assign(paste(\"test_x_\", i, sep=\"\"),test_x[seq(i,length(test_x),24)])\n",
    "    assign(paste(\"test_y_\", i, sep=\"\"),test_y[seq(i,length(test_y),24)])\n",
    "}\n",
    "\n",
    "#Let's define our 24 models for 48 hours ago using 24 training data produced above.\n",
    "for (i in 1:24){\n",
    "    assign(paste(\"model_48h_\",i,sep=\"\"),lm(paste(\"train_y_\",i, \"~\", \"train_x_\",i,sep=\"\")))\n",
    "}\n",
    "\n",
    "#Let's define the observation numbers (boundaries) that we are going to use while producing our training data for our model \n",
    "#of 168 hours ago.\n",
    "\n",
    "train_y_obs1=169\n",
    "train_y_obs2=consumption[(consumption$Tarih=='31.10.2019') & (consumption$Saat=='23:00'),'Observation']\n",
    "train_x_obs1=1\n",
    "train_x_obs2=train_y_obs2-168\n",
    "train_x=consumption[(train_x_obs1 <= consumption$Observation) & (consumption$Observation <= train_x_obs2),3]\n",
    "train_y=consumption[(train_y_obs1 <= consumption$Observation) & (consumption$Observation <= train_y_obs2),3]\n",
    "\n",
    "#Let's extract our 24 training data (training data for each hour) from our training data produced above.\n",
    "\n",
    "for (i in 1:24){\n",
    "    assign(paste(\"train_x_\", i, sep=\"\"),train_x[seq(i,length(train_x),24)])\n",
    "    assign(paste(\"train_y_\", i, sep=\"\"),train_y[seq(i,length(train_y),24)])\n",
    "}\n",
    "\n",
    "#Let's define the observation numbers (boundaries) that we are going to use while producing our test data for our model \n",
    "#of 168 hours ago.\n",
    "\n",
    "test_y_obs1=train_y_obs2+169\n",
    "test_y_obs2=max(consumption$Observation)\n",
    "test_x_obs1=train_y_obs2+1\n",
    "test_x_obs2=test_y_obs2-168\n",
    "test_x=consumption[(test_x_obs1 <= consumption$Observation) & (consumption$Observation <= test_x_obs2),3]\n",
    "test_y=consumption[(test_y_obs1 <= consumption$Observation) & (consumption$Observation <= test_y_obs2),3]\n",
    "\n",
    "#Let's extract our 24 test data (test data for each hour) from our test data produced above.\n",
    "\n",
    "for (i in 1:24){\n",
    "    assign(paste(\"test_x_\", i, sep=\"\"),test_x[seq(i,length(test_x),24)])\n",
    "    assign(paste(\"test_y_\", i, sep=\"\"),test_y[seq(i,length(test_y),24)])\n",
    "}\n",
    "\n",
    "#Let's define our 24 models for 168 hours ago using 24 training data produced above.\n",
    "\n",
    "for (i in 1:24){\n",
    "    assign(paste(\"model_168h_\",i,sep=\"\"),lm(paste(\"train_y_\",i, \"~\", \"train_x_\",i,sep=\"\")))\n",
    "}"
   ]
  },
  {
   "cell_type": "code",
   "execution_count": 18,
   "metadata": {},
   "outputs": [],
   "source": [
    "#Let's again define the observation numbers (boundaries) that we are going to use while producing our training data.\n",
    "train_y_obs1=169\n",
    "train_y_obs2=consumption[(consumption$Tarih=='31.10.2019') & (consumption$Saat=='23:00'),'Observation']\n",
    "train_x2_obs1=1\n",
    "train_x2_obs2=train_y_obs2-168\n",
    "train_x1_obs1=121\n",
    "train_x1_obs2=train_y_obs2-48\n",
    "#Let's produce our training data as a whole.\n",
    "train_x1=consumption[(train_x1_obs1 <= consumption$Observation) & (consumption$Observation <= train_x1_obs2),3]\n",
    "train_x2=consumption[(train_x2_obs1 <= consumption$Observation) & (consumption$Observation <= train_x2_obs2),3]\n",
    "train_y=consumption[(train_y_obs1 <= consumption$Observation) & (consumption$Observation <= train_y_obs2),3]\n",
    "#Let's extract our 24 training data (training data for each hour) from our training data produced above.\n",
    "for (i in 1:24){\n",
    "    assign(paste(\"train_x1_\", i, sep=\"\"),train_x1[seq(i,length(train_x1),24)])\n",
    "    assign(paste(\"train_x2_\", i, sep=\"\"),train_x2[seq(i,length(train_x2),24)])\n",
    "    assign(paste(\"train_y_\", i, sep=\"\"),train_y[seq(i,length(train_y),24)])\n",
    "}\n",
    "\n",
    "#Let's predict our training data following the logic in task b using our models and training data found for 24 hours. We again\n",
    "#use our forecast as feature.\n",
    "\n",
    "#The following code (to be used in a loop) does not work. So I wrote the codes one by one manually. \n",
    "#assign(paste(\"train_x1_\",i,sep=\"\"),predict(paste(\"model_48h_\",i,sep=\"\"),data.frame(assign(paste(\"train_x_\",i,sep=\"\")\n",
    "#                                                                                          ,paste(\"train_x1_\",i,sep=\"\")))))\n",
    "\n",
    "#We start with the data and models for 48 hours ago and produce our training data. We make our forecasts to use as our features.\n",
    "train_x1_1=predict(model_48h_1,data.frame(train_x_1=train_x1_1))\n",
    "train_x1_2=predict(model_48h_2,data.frame(train_x_2=train_x1_2))\n",
    "train_x1_3=predict(model_48h_3,data.frame(train_x_3=train_x1_3))\n",
    "train_x1_4=predict(model_48h_4,data.frame(train_x_4=train_x1_4))\n",
    "train_x1_5=predict(model_48h_5,data.frame(train_x_5=train_x1_5))\n",
    "train_x1_6=predict(model_48h_6,data.frame(train_x_6=train_x1_6))\n",
    "train_x1_7=predict(model_48h_7,data.frame(train_x_7=train_x1_7))\n",
    "train_x1_8=predict(model_48h_8,data.frame(train_x_8=train_x1_8))\n",
    "train_x1_9=predict(model_48h_9,data.frame(train_x_9=train_x1_9))\n",
    "train_x1_10=predict(model_48h_10,data.frame(train_x_10=train_x1_10))\n",
    "train_x1_11=predict(model_48h_11,data.frame(train_x_11=train_x1_11))\n",
    "train_x1_12=predict(model_48h_12,data.frame(train_x_12=train_x1_12))\n",
    "train_x1_13=predict(model_48h_13,data.frame(train_x_13=train_x1_13))\n",
    "train_x1_14=predict(model_48h_14,data.frame(train_x_14=train_x1_14))\n",
    "train_x1_15=predict(model_48h_15,data.frame(train_x_15=train_x1_15))\n",
    "train_x1_16=predict(model_48h_16,data.frame(train_x_16=train_x1_16))\n",
    "train_x1_17=predict(model_48h_17,data.frame(train_x_17=train_x1_17))\n",
    "train_x1_18=predict(model_48h_18,data.frame(train_x_18=train_x1_18))\n",
    "train_x1_19=predict(model_48h_19,data.frame(train_x_19=train_x1_19))\n",
    "train_x1_20=predict(model_48h_20,data.frame(train_x_20=train_x1_20))\n",
    "train_x1_21=predict(model_48h_21,data.frame(train_x_21=train_x1_21))\n",
    "train_x1_22=predict(model_48h_22,data.frame(train_x_22=train_x1_22))\n",
    "train_x1_23=predict(model_48h_23,data.frame(train_x_23=train_x1_23))\n",
    "train_x1_24=predict(model_48h_24,data.frame(train_x_24=train_x1_24))\n",
    "\n",
    "\n",
    "#We continue with the data and models for 168 hours ago and produce our training data. We make our forecasts to use as our \n",
    "#features.\n",
    "train_x2_1=predict(model_168h_1,data.frame(train_x_1=train_x2_1))\n",
    "train_x2_2=predict(model_168h_2,data.frame(train_x_2=train_x2_2))\n",
    "train_x2_3=predict(model_168h_3,data.frame(train_x_3=train_x2_3))\n",
    "train_x2_4=predict(model_168h_4,data.frame(train_x_4=train_x2_4))\n",
    "train_x2_5=predict(model_168h_5,data.frame(train_x_5=train_x2_5))\n",
    "train_x2_6=predict(model_168h_6,data.frame(train_x_6=train_x2_6))\n",
    "train_x2_7=predict(model_168h_7,data.frame(train_x_7=train_x2_7))\n",
    "train_x2_8=predict(model_168h_8,data.frame(train_x_8=train_x2_8))\n",
    "train_x2_9=predict(model_168h_9,data.frame(train_x_9=train_x2_9))\n",
    "train_x2_10=predict(model_168h_10,data.frame(train_x_10=train_x2_10))\n",
    "train_x2_11=predict(model_168h_11,data.frame(train_x_11=train_x2_11))\n",
    "train_x2_12=predict(model_168h_12,data.frame(train_x_12=train_x2_12))\n",
    "train_x2_13=predict(model_168h_13,data.frame(train_x_13=train_x2_13))\n",
    "train_x2_14=predict(model_168h_14,data.frame(train_x_14=train_x2_14))\n",
    "train_x2_15=predict(model_168h_15,data.frame(train_x_15=train_x2_15))\n",
    "train_x2_16=predict(model_168h_16,data.frame(train_x_16=train_x2_16))\n",
    "train_x2_17=predict(model_168h_17,data.frame(train_x_17=train_x2_17))\n",
    "train_x2_18=predict(model_168h_18,data.frame(train_x_18=train_x2_18))\n",
    "train_x2_19=predict(model_168h_19,data.frame(train_x_19=train_x2_19))\n",
    "train_x2_20=predict(model_168h_20,data.frame(train_x_20=train_x2_20))\n",
    "train_x2_21=predict(model_168h_21,data.frame(train_x_21=train_x2_21))\n",
    "train_x2_22=predict(model_168h_22,data.frame(train_x_22=train_x2_22))\n",
    "train_x2_23=predict(model_168h_23,data.frame(train_x_23=train_x2_23))\n",
    "train_x2_24=predict(model_168h_24,data.frame(train_x_24=train_x2_24))\n",
    "\n",
    "#We produce our regression models thinking our forecasts as features for each of the 24 hours. We have 24 models.\n",
    "#We use our predictions obtained above while producing our regression models.\n",
    "for (i in 1:24){\n",
    "    assign(paste(\"model_\",i,sep=\"\"),lm(paste(\"train_y_\",i, \"~\", \"train_x1_\",i,\"+\",\"train_x2_\",i,sep=\"\")))\n",
    "}\n",
    "\n",
    "#Let's again define the observation numbers that we are going to use while producing our test data.\n",
    "\n",
    "test_y_obs1=train_y_obs2+169\n",
    "test_y_obs2=max(consumption$Observation)\n",
    "test_x2_obs1=train_y_obs2+1\n",
    "test_x2_obs2=test_y_obs2-168\n",
    "test_x1_obs1=train_y_obs2+121\n",
    "test_x1_obs2=test_y_obs2-48\n",
    "\n",
    "\n",
    "#Let's produce our test data as a whole.\n",
    "\n",
    "test_x1=consumption[(test_x1_obs1 <= consumption$Observation) & (consumption$Observation <= test_x1_obs2),3]\n",
    "test_x2=consumption[(test_x2_obs1 <= consumption$Observation) & (consumption$Observation <= test_x2_obs2),3]\n",
    "test_y=consumption[(test_y_obs1 <= consumption$Observation) & (consumption$Observation <= test_y_obs2),3]\n",
    "\n",
    "#Let's extract our 24 test data (test data for each hour) from our test data produced above.\n",
    "\n",
    "for (i in 1:24){\n",
    "    assign(paste(\"test_x1_\", i, sep=\"\"),test_x1[seq(i,length(test_x1),24)])\n",
    "    assign(paste(\"test_x2_\", i, sep=\"\"),test_x2[seq(i,length(test_x2),24)])\n",
    "    assign(paste(\"test_y_\", i, sep=\"\"),test_y[seq(i,length(test_y),24)])    \n",
    "}\n",
    "\n",
    "#Let's predict our test data following the logic in task b using our models and test data found for 24 hours. We again\n",
    "#use our forecast as feature.\n",
    "\n",
    "#We start with the data and models for 48 hours ago and produce our test data.\n",
    "\n",
    "\n",
    "test_x1_1=predict(model_48h_1,data.frame(train_x_1=test_x1_1))\n",
    "test_x1_2=predict(model_48h_2,data.frame(train_x_2=test_x1_2))\n",
    "test_x1_3=predict(model_48h_3,data.frame(train_x_3=test_x1_3))\n",
    "test_x1_4=predict(model_48h_4,data.frame(train_x_4=test_x1_4))\n",
    "test_x1_5=predict(model_48h_5,data.frame(train_x_5=test_x1_5))\n",
    "test_x1_6=predict(model_48h_6,data.frame(train_x_6=test_x1_6))\n",
    "test_x1_7=predict(model_48h_7,data.frame(train_x_7=test_x1_7))\n",
    "test_x1_8=predict(model_48h_8,data.frame(train_x_8=test_x1_8))\n",
    "test_x1_9=predict(model_48h_9,data.frame(train_x_9=test_x1_9))\n",
    "test_x1_10=predict(model_48h_10,data.frame(train_x_10=test_x1_10))\n",
    "test_x1_11=predict(model_48h_11,data.frame(train_x_11=test_x1_11))\n",
    "test_x1_12=predict(model_48h_12,data.frame(train_x_12=test_x1_12))\n",
    "test_x1_13=predict(model_48h_13,data.frame(train_x_13=test_x1_13))\n",
    "test_x1_14=predict(model_48h_14,data.frame(train_x_14=test_x1_14))\n",
    "test_x1_15=predict(model_48h_15,data.frame(train_x_15=test_x1_15))\n",
    "test_x1_16=predict(model_48h_16,data.frame(train_x_16=test_x1_16))\n",
    "test_x1_17=predict(model_48h_17,data.frame(train_x_17=test_x1_17))\n",
    "test_x1_18=predict(model_48h_18,data.frame(train_x_18=test_x1_18))\n",
    "test_x1_19=predict(model_48h_19,data.frame(train_x_19=test_x1_19))\n",
    "test_x1_20=predict(model_48h_20,data.frame(train_x_20=test_x1_20))\n",
    "test_x1_21=predict(model_48h_21,data.frame(train_x_21=test_x1_21))\n",
    "test_x1_22=predict(model_48h_22,data.frame(train_x_22=test_x1_22))\n",
    "test_x1_23=predict(model_48h_23,data.frame(train_x_23=test_x1_23))\n",
    "test_x1_24=predict(model_48h_24,data.frame(train_x_24=test_x1_24))\n",
    "\n",
    "#We continue with the data and models for 168 hours ago and produce our test data.\n",
    "\n",
    "\n",
    "test_x2_1=predict(model_168h_1,data.frame(train_x_1=test_x2_1))\n",
    "test_x2_2=predict(model_168h_2,data.frame(train_x_2=test_x2_2))\n",
    "test_x2_3=predict(model_168h_3,data.frame(train_x_3=test_x2_3))\n",
    "test_x2_4=predict(model_168h_4,data.frame(train_x_4=test_x2_4))\n",
    "test_x2_5=predict(model_168h_5,data.frame(train_x_5=test_x2_5))\n",
    "test_x2_6=predict(model_168h_6,data.frame(train_x_6=test_x2_6))\n",
    "test_x2_7=predict(model_168h_7,data.frame(train_x_7=test_x2_7))\n",
    "test_x2_8=predict(model_168h_8,data.frame(train_x_8=test_x2_8))\n",
    "test_x2_9=predict(model_168h_9,data.frame(train_x_9=test_x2_9))\n",
    "test_x2_10=predict(model_168h_10,data.frame(train_x_10=test_x2_10))\n",
    "test_x2_11=predict(model_168h_11,data.frame(train_x_11=test_x2_11))\n",
    "test_x2_12=predict(model_168h_12,data.frame(train_x_12=test_x2_12))\n",
    "test_x2_13=predict(model_168h_13,data.frame(train_x_13=test_x2_13))\n",
    "test_x2_14=predict(model_168h_14,data.frame(train_x_14=test_x2_14))\n",
    "test_x2_15=predict(model_168h_15,data.frame(train_x_15=test_x2_15))\n",
    "test_x2_16=predict(model_168h_16,data.frame(train_x_16=test_x2_16))\n",
    "test_x2_17=predict(model_168h_17,data.frame(train_x_17=test_x2_17))\n",
    "test_x2_18=predict(model_168h_18,data.frame(train_x_18=test_x2_18))\n",
    "test_x2_19=predict(model_168h_19,data.frame(train_x_19=test_x2_19))\n",
    "test_x2_20=predict(model_168h_20,data.frame(train_x_20=test_x2_20))\n",
    "test_x2_21=predict(model_168h_21,data.frame(train_x_21=test_x2_21))\n",
    "test_x2_22=predict(model_168h_22,data.frame(train_x_22=test_x2_22))\n",
    "test_x2_23=predict(model_168h_23,data.frame(train_x_23=test_x2_23))\n",
    "test_x2_24=predict(model_168h_24,data.frame(train_x_24=test_x2_24))\n",
    "\n",
    "#Let's make our predictions for each hour using our test data.\n",
    "#The following code does not work. So we again write manually.\n",
    "\n",
    "#for (i in 1:24){\n",
    "#    assign(paste(\"new.train_x1_\",i,sep=\"\"),data.frame(assign(paste(\"train_x1_\",i,sep=\"\"),paste(\"test_x1_\",i,sep=\"\"))))\n",
    "#    assign(paste(\"new.train_x2_\",i,sep=\"\"),data.frame(assign(paste(\"train_x2_\",i,sep=\"\"),paste(\"test_x2_\",i,sep=\"\"))))\n",
    "#}\n",
    "\n",
    "new.train_x1_1=data.frame(train_x1_1=test_x1_1)\n",
    "new.train_x2_1=data.frame(train_x2_1=test_x2_1)\n",
    "new.train_x1_2=data.frame(train_x1_2=test_x1_2)\n",
    "new.train_x2_2=data.frame(train_x2_2=test_x2_2)\n",
    "new.train_x1_3=data.frame(train_x1_3=test_x1_3)\n",
    "new.train_x2_3=data.frame(train_x2_3=test_x2_3)\n",
    "new.train_x1_4=data.frame(train_x1_4=test_x1_4)\n",
    "new.train_x2_4=data.frame(train_x2_4=test_x2_4)\n",
    "new.train_x1_5=data.frame(train_x1_5=test_x1_5)\n",
    "new.train_x2_5=data.frame(train_x2_5=test_x2_5)\n",
    "new.train_x1_6=data.frame(train_x1_6=test_x1_6)\n",
    "new.train_x2_6=data.frame(train_x2_6=test_x2_6)\n",
    "new.train_x1_7=data.frame(train_x1_7=test_x1_7)\n",
    "new.train_x2_7=data.frame(train_x2_7=test_x2_7)\n",
    "new.train_x1_8=data.frame(train_x1_8=test_x1_8)\n",
    "new.train_x2_8=data.frame(train_x2_8=test_x2_8)\n",
    "new.train_x1_9=data.frame(train_x1_9=test_x1_9)\n",
    "new.train_x2_9=data.frame(train_x2_9=test_x2_9)\n",
    "new.train_x1_10=data.frame(train_x1_10=test_x1_10)\n",
    "new.train_x2_10=data.frame(train_x2_10=test_x2_10)\n",
    "new.train_x1_11=data.frame(train_x1_11=test_x1_11)\n",
    "new.train_x2_11=data.frame(train_x2_11=test_x2_11)\n",
    "new.train_x1_12=data.frame(train_x1_12=test_x1_12)\n",
    "new.train_x2_12=data.frame(train_x2_12=test_x2_12)\n",
    "new.train_x1_13=data.frame(train_x1_13=test_x1_13)\n",
    "new.train_x2_13=data.frame(train_x2_13=test_x2_13)\n",
    "new.train_x1_14=data.frame(train_x1_14=test_x1_14)\n",
    "new.train_x2_14=data.frame(train_x2_14=test_x2_14)\n",
    "new.train_x1_15=data.frame(train_x1_15=test_x1_15)\n",
    "new.train_x2_15=data.frame(train_x2_15=test_x2_15)\n",
    "new.train_x1_16=data.frame(train_x1_16=test_x1_16)\n",
    "new.train_x2_16=data.frame(train_x2_16=test_x2_16)\n",
    "new.train_x1_17=data.frame(train_x1_17=test_x1_17)\n",
    "new.train_x2_17=data.frame(train_x2_17=test_x2_17)\n",
    "new.train_x1_18=data.frame(train_x1_18=test_x1_18)\n",
    "new.train_x2_18=data.frame(train_x2_18=test_x2_18)\n",
    "new.train_x1_19=data.frame(train_x1_19=test_x1_19)\n",
    "new.train_x2_19=data.frame(train_x2_19=test_x2_19)\n",
    "new.train_x1_20=data.frame(train_x1_20=test_x1_20)\n",
    "new.train_x2_20=data.frame(train_x2_20=test_x2_20)\n",
    "new.train_x1_21=data.frame(train_x1_21=test_x1_21)\n",
    "new.train_x2_21=data.frame(train_x2_21=test_x2_21)\n",
    "new.train_x1_22=data.frame(train_x1_22=test_x1_22)\n",
    "new.train_x2_22=data.frame(train_x2_22=test_x2_22)\n",
    "new.train_x1_23=data.frame(train_x1_23=test_x1_23)\n",
    "new.train_x2_23=data.frame(train_x2_23=test_x2_23)\n",
    "new.train_x1_24=data.frame(train_x1_24=test_x1_24)\n",
    "new.train_x2_24=data.frame(train_x2_24=test_x2_24)\n",
    "#We make our predictions for each hour using our test data and previously defined models.\n",
    "prediction_y_1=predict(model_1,newdata=c(new.train_x1_1,new.train_x2_1))\n",
    "prediction_y_2=predict(model_2,newdata=c(new.train_x1_2,new.train_x2_2))\n",
    "prediction_y_3=predict(model_3,newdata=c(new.train_x1_3,new.train_x2_3))\n",
    "prediction_y_4=predict(model_4,newdata=c(new.train_x1_4,new.train_x2_4))\n",
    "prediction_y_5=predict(model_5,newdata=c(new.train_x1_5,new.train_x2_5))\n",
    "prediction_y_6=predict(model_6,newdata=c(new.train_x1_6,new.train_x2_6))\n",
    "prediction_y_7=predict(model_7,newdata=c(new.train_x1_7,new.train_x2_7))\n",
    "prediction_y_8=predict(model_8,newdata=c(new.train_x1_8,new.train_x2_8))\n",
    "prediction_y_9=predict(model_9,newdata=c(new.train_x1_9,new.train_x2_9))\n",
    "prediction_y_10=predict(model_10,newdata=c(new.train_x1_10,new.train_x2_10))\n",
    "prediction_y_11=predict(model_11,newdata=c(new.train_x1_11,new.train_x2_11))\n",
    "prediction_y_12=predict(model_12,newdata=c(new.train_x1_12,new.train_x2_12))\n",
    "prediction_y_13=predict(model_13,newdata=c(new.train_x1_13,new.train_x2_13))\n",
    "prediction_y_14=predict(model_14,newdata=c(new.train_x1_14,new.train_x2_14))\n",
    "prediction_y_15=predict(model_15,newdata=c(new.train_x1_15,new.train_x2_15))\n",
    "prediction_y_16=predict(model_16,newdata=c(new.train_x1_16,new.train_x2_16))\n",
    "prediction_y_17=predict(model_17,newdata=c(new.train_x1_17,new.train_x2_17))\n",
    "prediction_y_18=predict(model_18,newdata=c(new.train_x1_18,new.train_x2_18))\n",
    "prediction_y_19=predict(model_19,newdata=c(new.train_x1_19,new.train_x2_19))\n",
    "prediction_y_20=predict(model_20,newdata=c(new.train_x1_20,new.train_x2_20))\n",
    "prediction_y_21=predict(model_21,newdata=c(new.train_x1_21,new.train_x2_21))\n",
    "prediction_y_22=predict(model_22,newdata=c(new.train_x1_22,new.train_x2_22))\n",
    "prediction_y_23=predict(model_23,newdata=c(new.train_x1_23,new.train_x2_23))\n",
    "prediction_y_24=predict(model_24,newdata=c(new.train_x1_24,new.train_x2_24))\n"
   ]
  },
  {
   "cell_type": "code",
   "execution_count": 19,
   "metadata": {},
   "outputs": [
    {
     "name": "stdout",
     "output_type": "stream",
     "text": [
      "[1] \"MAPE for the approach in task c is  3.59434493086328\"\n"
     ]
    }
   ],
   "source": [
    "#We produce our prediction vector and fill inside of it with our predictions for each hour and each day in the right order\n",
    "#in order to make a healthy comparison.\n",
    "prediction_y=vector()\n",
    "for (i in 1:length(prediction_y_1)){\n",
    "    prediction_y=c(prediction_y,prediction_y_1[i])\n",
    "    prediction_y=c(prediction_y,prediction_y_2[i])\n",
    "    prediction_y=c(prediction_y,prediction_y_3[i])\n",
    "    prediction_y=c(prediction_y,prediction_y_4[i])\n",
    "    prediction_y=c(prediction_y,prediction_y_5[i])\n",
    "    prediction_y=c(prediction_y,prediction_y_6[i])\n",
    "    prediction_y=c(prediction_y,prediction_y_7[i])\n",
    "    prediction_y=c(prediction_y,prediction_y_8[i])\n",
    "    prediction_y=c(prediction_y,prediction_y_9[i])\n",
    "    prediction_y=c(prediction_y,prediction_y_10[i])\n",
    "    prediction_y=c(prediction_y,prediction_y_11[i])\n",
    "    prediction_y=c(prediction_y,prediction_y_12[i])\n",
    "    prediction_y=c(prediction_y,prediction_y_13[i])\n",
    "    prediction_y=c(prediction_y,prediction_y_14[i])\n",
    "    prediction_y=c(prediction_y,prediction_y_15[i])\n",
    "    prediction_y=c(prediction_y,prediction_y_16[i])\n",
    "    prediction_y=c(prediction_y,prediction_y_17[i])\n",
    "    prediction_y=c(prediction_y,prediction_y_18[i])\n",
    "    prediction_y=c(prediction_y,prediction_y_19[i])\n",
    "    prediction_y=c(prediction_y,prediction_y_20[i])\n",
    "    prediction_y=c(prediction_y,prediction_y_21[i])\n",
    "    prediction_y=c(prediction_y,prediction_y_22[i])\n",
    "    prediction_y=c(prediction_y,prediction_y_23[i])\n",
    "    prediction_y=c(prediction_y,prediction_y_24[i])\n",
    "}\n",
    "\n",
    "#We compare our prediction vector with real data (test y) and find our mape value.\n",
    "\n",
    "mape_task_c=(sum(abs((as.data.frame(prediction_y) - as.data.frame(test_y)) / as.data.frame(test_y)))/length(test_y)) * 100\n",
    "print(paste('MAPE for the approach in task c is ',mape_task_c))\n",
    "\n"
   ]
  },
  {
   "cell_type": "markdown",
   "metadata": {},
   "source": [
    "We see that MAPE value slightly increased in task c compared to the MAPE value in task b."
   ]
  },
  {
   "cell_type": "code",
   "execution_count": 20,
   "metadata": {},
   "outputs": [],
   "source": [
    "#Let's put mape values in a vector for each hour in the test period.\n",
    "mape_task_c_list=vector()\n",
    "for (i in 1:24){\n",
    "    mape=(sum(abs((as.data.frame(prediction_y[seq(i,length(prediction_y),24)]) - as.data.frame(test_y[seq(i,length(prediction_y),24)])) / as.data.frame(test_y[seq(i,length(prediction_y),24)])))/length(test_y[seq(i,length(prediction_y),24)])) * 100\n",
    "    mape_task_c_list=c(mape_task_c_list,mape)\n",
    "}"
   ]
  },
  {
   "cell_type": "code",
   "execution_count": 21,
   "metadata": {},
   "outputs": [
    {
     "name": "stdout",
     "output_type": "stream",
     "text": [
      "[1] \"The mean for MAPE values for each hour over the test period is 3.59434493086328. This is consistent with the result found above.\"\n"
     ]
    },
    {
     "data": {
      "image/png": "[encoded data removed]",
      "text/plain": [
       "Plot with title \"MAPE values\""
      ]
     },
     "metadata": {},
     "output_type": "display_data"
    }
   ],
   "source": [
    "#Let's check the consistency between mean of these mape values and the mape value found above. They must be equal.\n",
    "#Let's also draw a boxplot diagram for these mape values.\n",
    "print(paste0(\"The mean for MAPE values for each hour over the test period is \",mean(mape_task_c_list),\". This is consistent with the result found above.\"))\n",
    "boxplot(mape_task_c_list,main=\"MAPE values\")"
   ]
  },
  {
   "cell_type": "markdown",
   "metadata": {},
   "source": [
    "# Task d"
   ]
  },
  {
   "cell_type": "code",
   "execution_count": 22,
   "metadata": {},
   "outputs": [
    {
     "data": {
      "text/html": [
       "<table>\n",
       "<thead><tr><th scope=col>train_y</th><th scope=col>train_lag_day2_hour_0</th><th scope=col>train_lag_day2_hour_1</th><th scope=col>train_lag_day2_hour_2</th><th scope=col>train_lag_day2_hour_3</th><th scope=col>train_lag_day2_hour_4</th><th scope=col>train_lag_day2_hour_5</th><th scope=col>train_lag_day2_hour_6</th><th scope=col>train_lag_day2_hour_7</th><th scope=col>train_lag_day2_hour_8</th><th scope=col>...</th><th scope=col>train_lag_day7_hour_14</th><th scope=col>train_lag_day7_hour_15</th><th scope=col>train_lag_day7_hour_16</th><th scope=col>train_lag_day7_hour_17</th><th scope=col>train_lag_day7_hour_18</th><th scope=col>train_lag_day7_hour_19</th><th scope=col>train_lag_day7_hour_20</th><th scope=col>train_lag_day7_hour_21</th><th scope=col>train_lag_day7_hour_22</th><th scope=col>train_lag_day7_hour_23</th></tr></thead>\n",
       "<tbody>\n",
       "\t<tr><td>28602.02</td><td>29189.27</td><td>27614.02</td><td>26578.97</td><td>25719.19</td><td>25864.63</td><td>25918.59</td><td>27091.94</td><td>28533.05</td><td>33203.34</td><td>...     </td><td>29548.32</td><td>29390.89</td><td>30734.97</td><td>32048.02</td><td>31438.11</td><td>30728.47</td><td>30166.14</td><td>29461.28</td><td>29242.83</td><td>28069.09</td></tr>\n",
       "\t<tr><td>27112.37</td><td>29189.27</td><td>27614.02</td><td>26578.97</td><td>25719.19</td><td>25864.63</td><td>25918.59</td><td>27091.94</td><td>28533.05</td><td>33203.34</td><td>...     </td><td>29548.32</td><td>29390.89</td><td>30734.97</td><td>32048.02</td><td>31438.11</td><td>30728.47</td><td>30166.14</td><td>29461.28</td><td>29242.83</td><td>28069.09</td></tr>\n",
       "\t<tr><td>25975.34</td><td>29189.27</td><td>27614.02</td><td>26578.97</td><td>25719.19</td><td>25864.63</td><td>25918.59</td><td>27091.94</td><td>28533.05</td><td>33203.34</td><td>...     </td><td>29548.32</td><td>29390.89</td><td>30734.97</td><td>32048.02</td><td>31438.11</td><td>30728.47</td><td>30166.14</td><td>29461.28</td><td>29242.83</td><td>28069.09</td></tr>\n",
       "\t<tr><td>25315.55</td><td>29189.27</td><td>27614.02</td><td>26578.97</td><td>25719.19</td><td>25864.63</td><td>25918.59</td><td>27091.94</td><td>28533.05</td><td>33203.34</td><td>...     </td><td>29548.32</td><td>29390.89</td><td>30734.97</td><td>32048.02</td><td>31438.11</td><td>30728.47</td><td>30166.14</td><td>29461.28</td><td>29242.83</td><td>28069.09</td></tr>\n",
       "\t<tr><td>25128.15</td><td>29189.27</td><td>27614.02</td><td>26578.97</td><td>25719.19</td><td>25864.63</td><td>25918.59</td><td>27091.94</td><td>28533.05</td><td>33203.34</td><td>...     </td><td>29548.32</td><td>29390.89</td><td>30734.97</td><td>32048.02</td><td>31438.11</td><td>30728.47</td><td>30166.14</td><td>29461.28</td><td>29242.83</td><td>28069.09</td></tr>\n",
       "\t<tr><td>25356.22</td><td>29189.27</td><td>27614.02</td><td>26578.97</td><td>25719.19</td><td>25864.63</td><td>25918.59</td><td>27091.94</td><td>28533.05</td><td>33203.34</td><td>...     </td><td>29548.32</td><td>29390.89</td><td>30734.97</td><td>32048.02</td><td>31438.11</td><td>30728.47</td><td>30166.14</td><td>29461.28</td><td>29242.83</td><td>28069.09</td></tr>\n",
       "</tbody>\n",
       "</table>\n"
      ],
      "text/latex": [
       "\\begin{tabular}{r|lllllllllllllllllllllllllllllllllllllllllllllllll}\n",
       " train\\_y & train\\_lag\\_day2\\_hour\\_0 & train\\_lag\\_day2\\_hour\\_1 & train\\_lag\\_day2\\_hour\\_2 & train\\_lag\\_day2\\_hour\\_3 & train\\_lag\\_day2\\_hour\\_4 & train\\_lag\\_day2\\_hour\\_5 & train\\_lag\\_day2\\_hour\\_6 & train\\_lag\\_day2\\_hour\\_7 & train\\_lag\\_day2\\_hour\\_8 & ... & train\\_lag\\_day7\\_hour\\_14 & train\\_lag\\_day7\\_hour\\_15 & train\\_lag\\_day7\\_hour\\_16 & train\\_lag\\_day7\\_hour\\_17 & train\\_lag\\_day7\\_hour\\_18 & train\\_lag\\_day7\\_hour\\_19 & train\\_lag\\_day7\\_hour\\_20 & train\\_lag\\_day7\\_hour\\_21 & train\\_lag\\_day7\\_hour\\_22 & train\\_lag\\_day7\\_hour\\_23\\\\\n",
       "\\hline\n",
       "\t 28602.02 & 29189.27 & 27614.02 & 26578.97 & 25719.19 & 25864.63 & 25918.59 & 27091.94 & 28533.05 & 33203.34 & ...      & 29548.32 & 29390.89 & 30734.97 & 32048.02 & 31438.11 & 30728.47 & 30166.14 & 29461.28 & 29242.83 & 28069.09\\\\\n",
       "\t 27112.37 & 29189.27 & 27614.02 & 26578.97 & 25719.19 & 25864.63 & 25918.59 & 27091.94 & 28533.05 & 33203.34 & ...      & 29548.32 & 29390.89 & 30734.97 & 32048.02 & 31438.11 & 30728.47 & 30166.14 & 29461.28 & 29242.83 & 28069.09\\\\\n",
       "\t 25975.34 & 29189.27 & 27614.02 & 26578.97 & 25719.19 & 25864.63 & 25918.59 & 27091.94 & 28533.05 & 33203.34 & ...      & 29548.32 & 29390.89 & 30734.97 & 32048.02 & 31438.11 & 30728.47 & 30166.14 & 29461.28 & 29242.83 & 28069.09\\\\\n",
       "\t 25315.55 & 29189.27 & 27614.02 & 26578.97 & 25719.19 & 25864.63 & 25918.59 & 27091.94 & 28533.05 & 33203.34 & ...      & 29548.32 & 29390.89 & 30734.97 & 32048.02 & 31438.11 & 30728.47 & 30166.14 & 29461.28 & 29242.83 & 28069.09\\\\\n",
       "\t 25128.15 & 29189.27 & 27614.02 & 26578.97 & 25719.19 & 25864.63 & 25918.59 & 27091.94 & 28533.05 & 33203.34 & ...      & 29548.32 & 29390.89 & 30734.97 & 32048.02 & 31438.11 & 30728.47 & 30166.14 & 29461.28 & 29242.83 & 28069.09\\\\\n",
       "\t 25356.22 & 29189.27 & 27614.02 & 26578.97 & 25719.19 & 25864.63 & 25918.59 & 27091.94 & 28533.05 & 33203.34 & ...      & 29548.32 & 29390.89 & 30734.97 & 32048.02 & 31438.11 & 30728.47 & 30166.14 & 29461.28 & 29242.83 & 28069.09\\\\\n",
       "\\end{tabular}\n"
      ],
      "text/markdown": [
       "\n",
       "| train_y | train_lag_day2_hour_0 | train_lag_day2_hour_1 | train_lag_day2_hour_2 | train_lag_day2_hour_3 | train_lag_day2_hour_4 | train_lag_day2_hour_5 | train_lag_day2_hour_6 | train_lag_day2_hour_7 | train_lag_day2_hour_8 | ... | train_lag_day7_hour_14 | train_lag_day7_hour_15 | train_lag_day7_hour_16 | train_lag_day7_hour_17 | train_lag_day7_hour_18 | train_lag_day7_hour_19 | train_lag_day7_hour_20 | train_lag_day7_hour_21 | train_lag_day7_hour_22 | train_lag_day7_hour_23 |\n",
       "|---|---|---|---|---|---|---|---|---|---|---|---|---|---|---|---|---|---|---|---|---|\n",
       "| 28602.02 | 29189.27 | 27614.02 | 26578.97 | 25719.19 | 25864.63 | 25918.59 | 27091.94 | 28533.05 | 33203.34 | ...      | 29548.32 | 29390.89 | 30734.97 | 32048.02 | 31438.11 | 30728.47 | 30166.14 | 29461.28 | 29242.83 | 28069.09 |\n",
       "| 27112.37 | 29189.27 | 27614.02 | 26578.97 | 25719.19 | 25864.63 | 25918.59 | 27091.94 | 28533.05 | 33203.34 | ...      | 29548.32 | 29390.89 | 30734.97 | 32048.02 | 31438.11 | 30728.47 | 30166.14 | 29461.28 | 29242.83 | 28069.09 |\n",
       "| 25975.34 | 29189.27 | 27614.02 | 26578.97 | 25719.19 | 25864.63 | 25918.59 | 27091.94 | 28533.05 | 33203.34 | ...      | 29548.32 | 29390.89 | 30734.97 | 32048.02 | 31438.11 | 30728.47 | 30166.14 | 29461.28 | 29242.83 | 28069.09 |\n",
       "| 25315.55 | 29189.27 | 27614.02 | 26578.97 | 25719.19 | 25864.63 | 25918.59 | 27091.94 | 28533.05 | 33203.34 | ...      | 29548.32 | 29390.89 | 30734.97 | 32048.02 | 31438.11 | 30728.47 | 30166.14 | 29461.28 | 29242.83 | 28069.09 |\n",
       "| 25128.15 | 29189.27 | 27614.02 | 26578.97 | 25719.19 | 25864.63 | 25918.59 | 27091.94 | 28533.05 | 33203.34 | ...      | 29548.32 | 29390.89 | 30734.97 | 32048.02 | 31438.11 | 30728.47 | 30166.14 | 29461.28 | 29242.83 | 28069.09 |\n",
       "| 25356.22 | 29189.27 | 27614.02 | 26578.97 | 25719.19 | 25864.63 | 25918.59 | 27091.94 | 28533.05 | 33203.34 | ...      | 29548.32 | 29390.89 | 30734.97 | 32048.02 | 31438.11 | 30728.47 | 30166.14 | 29461.28 | 29242.83 | 28069.09 |\n",
       "\n"
      ],
      "text/plain": [
       "  train_y  train_lag_day2_hour_0 train_lag_day2_hour_1 train_lag_day2_hour_2\n",
       "1 28602.02 29189.27              27614.02              26578.97             \n",
       "2 27112.37 29189.27              27614.02              26578.97             \n",
       "3 25975.34 29189.27              27614.02              26578.97             \n",
       "4 25315.55 29189.27              27614.02              26578.97             \n",
       "5 25128.15 29189.27              27614.02              26578.97             \n",
       "6 25356.22 29189.27              27614.02              26578.97             \n",
       "  train_lag_day2_hour_3 train_lag_day2_hour_4 train_lag_day2_hour_5\n",
       "1 25719.19              25864.63              25918.59             \n",
       "2 25719.19              25864.63              25918.59             \n",
       "3 25719.19              25864.63              25918.59             \n",
       "4 25719.19              25864.63              25918.59             \n",
       "5 25719.19              25864.63              25918.59             \n",
       "6 25719.19              25864.63              25918.59             \n",
       "  train_lag_day2_hour_6 train_lag_day2_hour_7 train_lag_day2_hour_8 ...\n",
       "1 27091.94              28533.05              33203.34              ...\n",
       "2 27091.94              28533.05              33203.34              ...\n",
       "3 27091.94              28533.05              33203.34              ...\n",
       "4 27091.94              28533.05              33203.34              ...\n",
       "5 27091.94              28533.05              33203.34              ...\n",
       "6 27091.94              28533.05              33203.34              ...\n",
       "  train_lag_day7_hour_14 train_lag_day7_hour_15 train_lag_day7_hour_16\n",
       "1 29548.32               29390.89               30734.97              \n",
       "2 29548.32               29390.89               30734.97              \n",
       "3 29548.32               29390.89               30734.97              \n",
       "4 29548.32               29390.89               30734.97              \n",
       "5 29548.32               29390.89               30734.97              \n",
       "6 29548.32               29390.89               30734.97              \n",
       "  train_lag_day7_hour_17 train_lag_day7_hour_18 train_lag_day7_hour_19\n",
       "1 32048.02               31438.11               30728.47              \n",
       "2 32048.02               31438.11               30728.47              \n",
       "3 32048.02               31438.11               30728.47              \n",
       "4 32048.02               31438.11               30728.47              \n",
       "5 32048.02               31438.11               30728.47              \n",
       "6 32048.02               31438.11               30728.47              \n",
       "  train_lag_day7_hour_20 train_lag_day7_hour_21 train_lag_day7_hour_22\n",
       "1 30166.14               29461.28               29242.83              \n",
       "2 30166.14               29461.28               29242.83              \n",
       "3 30166.14               29461.28               29242.83              \n",
       "4 30166.14               29461.28               29242.83              \n",
       "5 30166.14               29461.28               29242.83              \n",
       "6 30166.14               29461.28               29242.83              \n",
       "  train_lag_day7_hour_23\n",
       "1 28069.09              \n",
       "2 28069.09              \n",
       "3 28069.09              \n",
       "4 28069.09              \n",
       "5 28069.09              \n",
       "6 28069.09              "
      ]
     },
     "metadata": {},
     "output_type": "display_data"
    }
   ],
   "source": [
    "#Let's again define the observation numbers (boundaries) that we are going to use while producing our training data.\n",
    "\n",
    "train_y_obs1=169\n",
    "train_y_obs2=consumption[(consumption$Tarih=='31.10.2019') & (consumption$Saat=='23:00'),'Observation']\n",
    "train_x2_obs1=1\n",
    "train_x2_obs2=train_y_obs2-168\n",
    "train_x1_obs1=121\n",
    "train_x1_obs2=train_y_obs2-48\n",
    "\n",
    "#Let's produce our training data as a whole.\n",
    "train_x1=consumption[(train_x1_obs1 <= consumption$Observation) & (consumption$Observation <= train_x1_obs2),3]\n",
    "train_x2=consumption[(train_x2_obs1 <= consumption$Observation) & (consumption$Observation <= train_x2_obs2),3]\n",
    "train_y=consumption[(train_y_obs1 <= consumption$Observation) & (consumption$Observation <= train_y_obs2),3]\n",
    "\n",
    "#Let's extract the 48 columns from hour training data.\n",
    "for (i in 0:23){\n",
    "    assign(paste(\"train_lag_day2_hour_\",i,sep=\"\"),train_x1[seq(i+1,length(train_x1),24)])\n",
    "    assign(paste(\"train_lag_day7_hour_\",i,sep=\"\"),train_x2[seq(i+1,length(train_x2),24)])\n",
    "}\n",
    "\n",
    "train_lag_day2_hour_0=rep(train_lag_day2_hour_0,each=24)\n",
    "train_lag_day7_hour_0=rep(train_lag_day7_hour_0,each=24)\n",
    "train_lag_day2_hour_1=rep(train_lag_day2_hour_1,each=24)\n",
    "train_lag_day7_hour_1=rep(train_lag_day7_hour_1,each=24)\n",
    "train_lag_day2_hour_2=rep(train_lag_day2_hour_2,each=24)\n",
    "train_lag_day7_hour_2=rep(train_lag_day7_hour_2,each=24)\n",
    "train_lag_day2_hour_3=rep(train_lag_day2_hour_3,each=24)\n",
    "train_lag_day7_hour_3=rep(train_lag_day7_hour_3,each=24)\n",
    "train_lag_day2_hour_4=rep(train_lag_day2_hour_4,each=24)\n",
    "train_lag_day7_hour_4=rep(train_lag_day7_hour_4,each=24)\n",
    "train_lag_day2_hour_5=rep(train_lag_day2_hour_5,each=24)\n",
    "train_lag_day7_hour_5=rep(train_lag_day7_hour_5,each=24)\n",
    "train_lag_day2_hour_6=rep(train_lag_day2_hour_6,each=24)\n",
    "train_lag_day7_hour_6=rep(train_lag_day7_hour_6,each=24)\n",
    "train_lag_day2_hour_7=rep(train_lag_day2_hour_7,each=24)\n",
    "train_lag_day7_hour_8=rep(train_lag_day7_hour_7,each=24)\n",
    "train_lag_day2_hour_8=rep(train_lag_day2_hour_8,each=24)\n",
    "train_lag_day7_hour_8=rep(train_lag_day7_hour_8,each=24)\n",
    "train_lag_day2_hour_9=rep(train_lag_day2_hour_9,each=24)\n",
    "train_lag_day7_hour_9=rep(train_lag_day7_hour_9,each=24)\n",
    "train_lag_day2_hour_10=rep(train_lag_day2_hour_10,each=24)\n",
    "train_lag_day7_hour_10=rep(train_lag_day7_hour_10,each=24)\n",
    "train_lag_day2_hour_11=rep(train_lag_day2_hour_11,each=24)\n",
    "train_lag_day7_hour_11=rep(train_lag_day7_hour_11,each=24)\n",
    "train_lag_day2_hour_12=rep(train_lag_day2_hour_12,each=24)\n",
    "train_lag_day7_hour_12=rep(train_lag_day7_hour_12,each=24)\n",
    "train_lag_day2_hour_13=rep(train_lag_day2_hour_13,each=24)\n",
    "train_lag_day7_hour_13=rep(train_lag_day7_hour_13,each=24)\n",
    "train_lag_day2_hour_14=rep(train_lag_day2_hour_14,each=24)\n",
    "train_lag_day7_hour_14=rep(train_lag_day7_hour_14,each=24)\n",
    "train_lag_day2_hour_15=rep(train_lag_day2_hour_15,each=24)\n",
    "train_lag_day7_hour_15=rep(train_lag_day7_hour_15,each=24)\n",
    "train_lag_day2_hour_16=rep(train_lag_day2_hour_16,each=24)\n",
    "train_lag_day7_hour_16=rep(train_lag_day7_hour_16,each=24)\n",
    "train_lag_day2_hour_17=rep(train_lag_day2_hour_17,each=24)\n",
    "train_lag_day7_hour_17=rep(train_lag_day7_hour_17,each=24)\n",
    "train_lag_day2_hour_18=rep(train_lag_day2_hour_18,each=24)\n",
    "train_lag_day7_hour_18=rep(train_lag_day7_hour_18,each=24)\n",
    "train_lag_day2_hour_19=rep(train_lag_day2_hour_19,each=24)\n",
    "train_lag_day7_hour_19=rep(train_lag_day7_hour_19,each=24)\n",
    "train_lag_day2_hour_20=rep(train_lag_day2_hour_20,each=24)\n",
    "train_lag_day7_hour_20=rep(train_lag_day7_hour_20,each=24)\n",
    "train_lag_day2_hour_21=rep(train_lag_day2_hour_21,each=24)\n",
    "train_lag_day7_hour_21=rep(train_lag_day7_hour_21,each=24)\n",
    "train_lag_day2_hour_22=rep(train_lag_day2_hour_22,each=24)\n",
    "train_lag_day7_hour_22=rep(train_lag_day7_hour_22,each=24)\n",
    "train_lag_day2_hour_23=rep(train_lag_day2_hour_23,each=24)\n",
    "train_lag_day7_hour_23=rep(train_lag_day7_hour_23,each=24)\n",
    "\n",
    "#Let's produce our training data as a frame in wide format and print the first rows of it.\n",
    "training_data=data.frame(train_y,train_lag_day2_hour_0,train_lag_day2_hour_1,train_lag_day2_hour_2,train_lag_day2_hour_3,\n",
    "train_lag_day2_hour_4,train_lag_day2_hour_5,train_lag_day2_hour_6,train_lag_day2_hour_7,train_lag_day2_hour_8,\n",
    "train_lag_day2_hour_9,train_lag_day2_hour_10,train_lag_day2_hour_11,train_lag_day2_hour_12,train_lag_day2_hour_13,\n",
    "train_lag_day2_hour_14,train_lag_day2_hour_15,train_lag_day2_hour_16,train_lag_day2_hour_17,\n",
    "train_lag_day2_hour_18,train_lag_day2_hour_19,train_lag_day2_hour_20,train_lag_day2_hour_21,train_lag_day2_hour_22,\n",
    "train_lag_day2_hour_23,train_lag_day7_hour_0,train_lag_day7_hour_1,train_lag_day7_hour_2,train_lag_day7_hour_3,\n",
    "train_lag_day7_hour_4,train_lag_day7_hour_5,train_lag_day7_hour_6,train_lag_day7_hour_7,train_lag_day7_hour_8,\n",
    "train_lag_day7_hour_9,train_lag_day7_hour_10,train_lag_day7_hour_11,train_lag_day7_hour_12,train_lag_day7_hour_13,\n",
    "train_lag_day7_hour_14,train_lag_day7_hour_15,train_lag_day7_hour_16,train_lag_day7_hour_17,\n",
    "train_lag_day7_hour_18,train_lag_day7_hour_19,train_lag_day7_hour_20,train_lag_day7_hour_21,train_lag_day7_hour_22,\n",
    "train_lag_day7_hour_23)\n",
    "\n",
    "\n",
    "head(training_data)"
   ]
  },
  {
   "cell_type": "code",
   "execution_count": 23,
   "metadata": {},
   "outputs": [
    {
     "data": {
      "text/html": [
       "<table>\n",
       "<thead><tr><th></th><th scope=col>train_y</th><th scope=col>train_lag_day2_hour_0</th><th scope=col>train_lag_day2_hour_1</th><th scope=col>train_lag_day2_hour_2</th><th scope=col>train_lag_day2_hour_3</th><th scope=col>train_lag_day2_hour_4</th><th scope=col>train_lag_day2_hour_5</th><th scope=col>train_lag_day2_hour_6</th><th scope=col>train_lag_day2_hour_7</th><th scope=col>train_lag_day2_hour_8</th><th scope=col>...</th><th scope=col>train_lag_day7_hour_14</th><th scope=col>train_lag_day7_hour_15</th><th scope=col>train_lag_day7_hour_16</th><th scope=col>train_lag_day7_hour_17</th><th scope=col>train_lag_day7_hour_18</th><th scope=col>train_lag_day7_hour_19</th><th scope=col>train_lag_day7_hour_20</th><th scope=col>train_lag_day7_hour_21</th><th scope=col>train_lag_day7_hour_22</th><th scope=col>train_lag_day7_hour_23</th></tr></thead>\n",
       "<tbody>\n",
       "\t<tr><th scope=row>1</th><td>28602.02</td><td>29189.27</td><td>27614.02</td><td>26578.97</td><td>25719.19</td><td>25864.63</td><td>25918.59</td><td>27091.94</td><td>28533.05</td><td>33203.34</td><td>...     </td><td>29548.32</td><td>29390.89</td><td>30734.97</td><td>32048.02</td><td>31438.11</td><td>30728.47</td><td>30166.14</td><td>29461.28</td><td>29242.83</td><td>28069.09</td></tr>\n",
       "\t<tr><th scope=row>25</th><td>29906.93</td><td>28763.95</td><td>27284.84</td><td>26321.95</td><td>25748.49</td><td>25636.58</td><td>25932.52</td><td>26963.74</td><td>28444.83</td><td>32804.27</td><td>...     </td><td>32796.18</td><td>32594.55</td><td>33358.47</td><td>34387.95</td><td>33591.26</td><td>32648.83</td><td>31897.73</td><td>31049.20</td><td>30906.43</td><td>29621.09</td></tr>\n",
       "\t<tr><th scope=row>49</th><td>28890.37</td><td>28602.02</td><td>27112.37</td><td>25975.34</td><td>25315.55</td><td>25128.15</td><td>25356.22</td><td>26338.72</td><td>28086.42</td><td>32702.24</td><td>...     </td><td>31056.47</td><td>30979.53</td><td>32297.46</td><td>33462.96</td><td>33151.03</td><td>32450.21</td><td>32093.93</td><td>31315.16</td><td>31014.19</td><td>29462.06</td></tr>\n",
       "\t<tr><th scope=row>73</th><td>27130.75</td><td>29906.93</td><td>28061.98</td><td>26808.78</td><td>25798.80</td><td>25820.46</td><td>26035.77</td><td>26451.24</td><td>26853.42</td><td>30627.32</td><td>...     </td><td>39661.98</td><td>39211.00</td><td>39760.12</td><td>39633.29</td><td>37621.41</td><td>35954.18</td><td>35114.12</td><td>34066.40</td><td>33686.83</td><td>31733.54</td></tr>\n",
       "\t<tr><th scope=row>97</th><td>29161.64</td><td>28890.37</td><td>27133.75</td><td>25656.13</td><td>24937.87</td><td>24538.16</td><td>24616.05</td><td>24478.14</td><td>23813.35</td><td>24676.92</td><td>...     </td><td>38086.11</td><td>37834.89</td><td>38599.34</td><td>38669.63</td><td>36954.78</td><td>35306.11</td><td>34301.59</td><td>33400.82</td><td>33359.37</td><td>31629.97</td></tr>\n",
       "\t<tr><th scope=row>121</th><td>28823.02</td><td>27130.75</td><td>25403.40</td><td>24452.96</td><td>23959.85</td><td>23839.28</td><td>24358.46</td><td>25800.81</td><td>27336.03</td><td>32683.24</td><td>...     </td><td>36847.22</td><td>36433.88</td><td>37581.09</td><td>37304.52</td><td>35832.00</td><td>34499.94</td><td>33670.00</td><td>32931.12</td><td>32913.06</td><td>31450.65</td></tr>\n",
       "</tbody>\n",
       "</table>\n"
      ],
      "text/latex": [
       "\\begin{tabular}{r|lllllllllllllllllllllllllllllllllllllllllllllllll}\n",
       "  & train\\_y & train\\_lag\\_day2\\_hour\\_0 & train\\_lag\\_day2\\_hour\\_1 & train\\_lag\\_day2\\_hour\\_2 & train\\_lag\\_day2\\_hour\\_3 & train\\_lag\\_day2\\_hour\\_4 & train\\_lag\\_day2\\_hour\\_5 & train\\_lag\\_day2\\_hour\\_6 & train\\_lag\\_day2\\_hour\\_7 & train\\_lag\\_day2\\_hour\\_8 & ... & train\\_lag\\_day7\\_hour\\_14 & train\\_lag\\_day7\\_hour\\_15 & train\\_lag\\_day7\\_hour\\_16 & train\\_lag\\_day7\\_hour\\_17 & train\\_lag\\_day7\\_hour\\_18 & train\\_lag\\_day7\\_hour\\_19 & train\\_lag\\_day7\\_hour\\_20 & train\\_lag\\_day7\\_hour\\_21 & train\\_lag\\_day7\\_hour\\_22 & train\\_lag\\_day7\\_hour\\_23\\\\\n",
       "\\hline\n",
       "\t1 & 28602.02 & 29189.27 & 27614.02 & 26578.97 & 25719.19 & 25864.63 & 25918.59 & 27091.94 & 28533.05 & 33203.34 & ...      & 29548.32 & 29390.89 & 30734.97 & 32048.02 & 31438.11 & 30728.47 & 30166.14 & 29461.28 & 29242.83 & 28069.09\\\\\n",
       "\t25 & 29906.93 & 28763.95 & 27284.84 & 26321.95 & 25748.49 & 25636.58 & 25932.52 & 26963.74 & 28444.83 & 32804.27 & ...      & 32796.18 & 32594.55 & 33358.47 & 34387.95 & 33591.26 & 32648.83 & 31897.73 & 31049.20 & 30906.43 & 29621.09\\\\\n",
       "\t49 & 28890.37 & 28602.02 & 27112.37 & 25975.34 & 25315.55 & 25128.15 & 25356.22 & 26338.72 & 28086.42 & 32702.24 & ...      & 31056.47 & 30979.53 & 32297.46 & 33462.96 & 33151.03 & 32450.21 & 32093.93 & 31315.16 & 31014.19 & 29462.06\\\\\n",
       "\t73 & 27130.75 & 29906.93 & 28061.98 & 26808.78 & 25798.80 & 25820.46 & 26035.77 & 26451.24 & 26853.42 & 30627.32 & ...      & 39661.98 & 39211.00 & 39760.12 & 39633.29 & 37621.41 & 35954.18 & 35114.12 & 34066.40 & 33686.83 & 31733.54\\\\\n",
       "\t97 & 29161.64 & 28890.37 & 27133.75 & 25656.13 & 24937.87 & 24538.16 & 24616.05 & 24478.14 & 23813.35 & 24676.92 & ...      & 38086.11 & 37834.89 & 38599.34 & 38669.63 & 36954.78 & 35306.11 & 34301.59 & 33400.82 & 33359.37 & 31629.97\\\\\n",
       "\t121 & 28823.02 & 27130.75 & 25403.40 & 24452.96 & 23959.85 & 23839.28 & 24358.46 & 25800.81 & 27336.03 & 32683.24 & ...      & 36847.22 & 36433.88 & 37581.09 & 37304.52 & 35832.00 & 34499.94 & 33670.00 & 32931.12 & 32913.06 & 31450.65\\\\\n",
       "\\end{tabular}\n"
      ],
      "text/markdown": [
       "\n",
       "| <!--/--> | train_y | train_lag_day2_hour_0 | train_lag_day2_hour_1 | train_lag_day2_hour_2 | train_lag_day2_hour_3 | train_lag_day2_hour_4 | train_lag_day2_hour_5 | train_lag_day2_hour_6 | train_lag_day2_hour_7 | train_lag_day2_hour_8 | ... | train_lag_day7_hour_14 | train_lag_day7_hour_15 | train_lag_day7_hour_16 | train_lag_day7_hour_17 | train_lag_day7_hour_18 | train_lag_day7_hour_19 | train_lag_day7_hour_20 | train_lag_day7_hour_21 | train_lag_day7_hour_22 | train_lag_day7_hour_23 |\n",
       "|---|---|---|---|---|---|---|---|---|---|---|---|---|---|---|---|---|---|---|---|---|---|\n",
       "| 1 | 28602.02 | 29189.27 | 27614.02 | 26578.97 | 25719.19 | 25864.63 | 25918.59 | 27091.94 | 28533.05 | 33203.34 | ...      | 29548.32 | 29390.89 | 30734.97 | 32048.02 | 31438.11 | 30728.47 | 30166.14 | 29461.28 | 29242.83 | 28069.09 |\n",
       "| 25 | 29906.93 | 28763.95 | 27284.84 | 26321.95 | 25748.49 | 25636.58 | 25932.52 | 26963.74 | 28444.83 | 32804.27 | ...      | 32796.18 | 32594.55 | 33358.47 | 34387.95 | 33591.26 | 32648.83 | 31897.73 | 31049.20 | 30906.43 | 29621.09 |\n",
       "| 49 | 28890.37 | 28602.02 | 27112.37 | 25975.34 | 25315.55 | 25128.15 | 25356.22 | 26338.72 | 28086.42 | 32702.24 | ...      | 31056.47 | 30979.53 | 32297.46 | 33462.96 | 33151.03 | 32450.21 | 32093.93 | 31315.16 | 31014.19 | 29462.06 |\n",
       "| 73 | 27130.75 | 29906.93 | 28061.98 | 26808.78 | 25798.80 | 25820.46 | 26035.77 | 26451.24 | 26853.42 | 30627.32 | ...      | 39661.98 | 39211.00 | 39760.12 | 39633.29 | 37621.41 | 35954.18 | 35114.12 | 34066.40 | 33686.83 | 31733.54 |\n",
       "| 97 | 29161.64 | 28890.37 | 27133.75 | 25656.13 | 24937.87 | 24538.16 | 24616.05 | 24478.14 | 23813.35 | 24676.92 | ...      | 38086.11 | 37834.89 | 38599.34 | 38669.63 | 36954.78 | 35306.11 | 34301.59 | 33400.82 | 33359.37 | 31629.97 |\n",
       "| 121 | 28823.02 | 27130.75 | 25403.40 | 24452.96 | 23959.85 | 23839.28 | 24358.46 | 25800.81 | 27336.03 | 32683.24 | ...      | 36847.22 | 36433.88 | 37581.09 | 37304.52 | 35832.00 | 34499.94 | 33670.00 | 32931.12 | 32913.06 | 31450.65 |\n",
       "\n"
      ],
      "text/plain": [
       "    train_y  train_lag_day2_hour_0 train_lag_day2_hour_1 train_lag_day2_hour_2\n",
       "1   28602.02 29189.27              27614.02              26578.97             \n",
       "25  29906.93 28763.95              27284.84              26321.95             \n",
       "49  28890.37 28602.02              27112.37              25975.34             \n",
       "73  27130.75 29906.93              28061.98              26808.78             \n",
       "97  29161.64 28890.37              27133.75              25656.13             \n",
       "121 28823.02 27130.75              25403.40              24452.96             \n",
       "    train_lag_day2_hour_3 train_lag_day2_hour_4 train_lag_day2_hour_5\n",
       "1   25719.19              25864.63              25918.59             \n",
       "25  25748.49              25636.58              25932.52             \n",
       "49  25315.55              25128.15              25356.22             \n",
       "73  25798.80              25820.46              26035.77             \n",
       "97  24937.87              24538.16              24616.05             \n",
       "121 23959.85              23839.28              24358.46             \n",
       "    train_lag_day2_hour_6 train_lag_day2_hour_7 train_lag_day2_hour_8 ...\n",
       "1   27091.94              28533.05              33203.34              ...\n",
       "25  26963.74              28444.83              32804.27              ...\n",
       "49  26338.72              28086.42              32702.24              ...\n",
       "73  26451.24              26853.42              30627.32              ...\n",
       "97  24478.14              23813.35              24676.92              ...\n",
       "121 25800.81              27336.03              32683.24              ...\n",
       "    train_lag_day7_hour_14 train_lag_day7_hour_15 train_lag_day7_hour_16\n",
       "1   29548.32               29390.89               30734.97              \n",
       "25  32796.18               32594.55               33358.47              \n",
       "49  31056.47               30979.53               32297.46              \n",
       "73  39661.98               39211.00               39760.12              \n",
       "97  38086.11               37834.89               38599.34              \n",
       "121 36847.22               36433.88               37581.09              \n",
       "    train_lag_day7_hour_17 train_lag_day7_hour_18 train_lag_day7_hour_19\n",
       "1   32048.02               31438.11               30728.47              \n",
       "25  34387.95               33591.26               32648.83              \n",
       "49  33462.96               33151.03               32450.21              \n",
       "73  39633.29               37621.41               35954.18              \n",
       "97  38669.63               36954.78               35306.11              \n",
       "121 37304.52               35832.00               34499.94              \n",
       "    train_lag_day7_hour_20 train_lag_day7_hour_21 train_lag_day7_hour_22\n",
       "1   30166.14               29461.28               29242.83              \n",
       "25  31897.73               31049.20               30906.43              \n",
       "49  32093.93               31315.16               31014.19              \n",
       "73  35114.12               34066.40               33686.83              \n",
       "97  34301.59               33400.82               33359.37              \n",
       "121 33670.00               32931.12               32913.06              \n",
       "    train_lag_day7_hour_23\n",
       "1   28069.09              \n",
       "25  29621.09              \n",
       "49  29462.06              \n",
       "73  31733.54              \n",
       "97  31629.97              \n",
       "121 31450.65              "
      ]
     },
     "metadata": {},
     "output_type": "display_data"
    },
    {
     "data": {
      "text/html": [
       "<table>\n",
       "<thead><tr><th></th><th scope=col>train_y</th><th scope=col>train_lag_day2_hour_0</th><th scope=col>train_lag_day2_hour_1</th><th scope=col>train_lag_day2_hour_2</th><th scope=col>train_lag_day2_hour_3</th><th scope=col>train_lag_day2_hour_4</th><th scope=col>train_lag_day2_hour_5</th><th scope=col>train_lag_day2_hour_6</th><th scope=col>train_lag_day2_hour_7</th><th scope=col>train_lag_day2_hour_8</th><th scope=col>...</th><th scope=col>train_lag_day7_hour_14</th><th scope=col>train_lag_day7_hour_15</th><th scope=col>train_lag_day7_hour_16</th><th scope=col>train_lag_day7_hour_17</th><th scope=col>train_lag_day7_hour_18</th><th scope=col>train_lag_day7_hour_19</th><th scope=col>train_lag_day7_hour_20</th><th scope=col>train_lag_day7_hour_21</th><th scope=col>train_lag_day7_hour_22</th><th scope=col>train_lag_day7_hour_23</th></tr></thead>\n",
       "<tbody>\n",
       "\t<tr><th scope=row>11</th><td>36843.20</td><td>29189.27</td><td>27614.02</td><td>26578.97</td><td>25719.19</td><td>25864.63</td><td>25918.59</td><td>27091.94</td><td>28533.05</td><td>33203.34</td><td>...     </td><td>29548.32</td><td>29390.89</td><td>30734.97</td><td>32048.02</td><td>31438.11</td><td>30728.47</td><td>30166.14</td><td>29461.28</td><td>29242.83</td><td>28069.09</td></tr>\n",
       "\t<tr><th scope=row>35</th><td>34792.84</td><td>28763.95</td><td>27284.84</td><td>26321.95</td><td>25748.49</td><td>25636.58</td><td>25932.52</td><td>26963.74</td><td>28444.83</td><td>32804.27</td><td>...     </td><td>32796.18</td><td>32594.55</td><td>33358.47</td><td>34387.95</td><td>33591.26</td><td>32648.83</td><td>31897.73</td><td>31049.20</td><td>30906.43</td><td>29621.09</td></tr>\n",
       "\t<tr><th scope=row>59</th><td>28136.07</td><td>28602.02</td><td>27112.37</td><td>25975.34</td><td>25315.55</td><td>25128.15</td><td>25356.22</td><td>26338.72</td><td>28086.42</td><td>32702.24</td><td>...     </td><td>31056.47</td><td>30979.53</td><td>32297.46</td><td>33462.96</td><td>33151.03</td><td>32450.21</td><td>32093.93</td><td>31315.16</td><td>31014.19</td><td>29462.06</td></tr>\n",
       "\t<tr><th scope=row>83</th><td>36707.21</td><td>29906.93</td><td>28061.98</td><td>26808.78</td><td>25798.80</td><td>25820.46</td><td>26035.77</td><td>26451.24</td><td>26853.42</td><td>30627.32</td><td>...     </td><td>39661.98</td><td>39211.00</td><td>39760.12</td><td>39633.29</td><td>37621.41</td><td>35954.18</td><td>35114.12</td><td>34066.40</td><td>33686.83</td><td>31733.54</td></tr>\n",
       "\t<tr><th scope=row>107</th><td>35653.04</td><td>28890.37</td><td>27133.75</td><td>25656.13</td><td>24937.87</td><td>24538.16</td><td>24616.05</td><td>24478.14</td><td>23813.35</td><td>24676.92</td><td>...     </td><td>38086.11</td><td>37834.89</td><td>38599.34</td><td>38669.63</td><td>36954.78</td><td>35306.11</td><td>34301.59</td><td>33400.82</td><td>33359.37</td><td>31629.97</td></tr>\n",
       "\t<tr><th scope=row>131</th><td>36427.94</td><td>27130.75</td><td>25403.40</td><td>24452.96</td><td>23959.85</td><td>23839.28</td><td>24358.46</td><td>25800.81</td><td>27336.03</td><td>32683.24</td><td>...     </td><td>36847.22</td><td>36433.88</td><td>37581.09</td><td>37304.52</td><td>35832.00</td><td>34499.94</td><td>33670.00</td><td>32931.12</td><td>32913.06</td><td>31450.65</td></tr>\n",
       "</tbody>\n",
       "</table>\n"
      ],
      "text/latex": [
       "\\begin{tabular}{r|lllllllllllllllllllllllllllllllllllllllllllllllll}\n",
       "  & train\\_y & train\\_lag\\_day2\\_hour\\_0 & train\\_lag\\_day2\\_hour\\_1 & train\\_lag\\_day2\\_hour\\_2 & train\\_lag\\_day2\\_hour\\_3 & train\\_lag\\_day2\\_hour\\_4 & train\\_lag\\_day2\\_hour\\_5 & train\\_lag\\_day2\\_hour\\_6 & train\\_lag\\_day2\\_hour\\_7 & train\\_lag\\_day2\\_hour\\_8 & ... & train\\_lag\\_day7\\_hour\\_14 & train\\_lag\\_day7\\_hour\\_15 & train\\_lag\\_day7\\_hour\\_16 & train\\_lag\\_day7\\_hour\\_17 & train\\_lag\\_day7\\_hour\\_18 & train\\_lag\\_day7\\_hour\\_19 & train\\_lag\\_day7\\_hour\\_20 & train\\_lag\\_day7\\_hour\\_21 & train\\_lag\\_day7\\_hour\\_22 & train\\_lag\\_day7\\_hour\\_23\\\\\n",
       "\\hline\n",
       "\t11 & 36843.20 & 29189.27 & 27614.02 & 26578.97 & 25719.19 & 25864.63 & 25918.59 & 27091.94 & 28533.05 & 33203.34 & ...      & 29548.32 & 29390.89 & 30734.97 & 32048.02 & 31438.11 & 30728.47 & 30166.14 & 29461.28 & 29242.83 & 28069.09\\\\\n",
       "\t35 & 34792.84 & 28763.95 & 27284.84 & 26321.95 & 25748.49 & 25636.58 & 25932.52 & 26963.74 & 28444.83 & 32804.27 & ...      & 32796.18 & 32594.55 & 33358.47 & 34387.95 & 33591.26 & 32648.83 & 31897.73 & 31049.20 & 30906.43 & 29621.09\\\\\n",
       "\t59 & 28136.07 & 28602.02 & 27112.37 & 25975.34 & 25315.55 & 25128.15 & 25356.22 & 26338.72 & 28086.42 & 32702.24 & ...      & 31056.47 & 30979.53 & 32297.46 & 33462.96 & 33151.03 & 32450.21 & 32093.93 & 31315.16 & 31014.19 & 29462.06\\\\\n",
       "\t83 & 36707.21 & 29906.93 & 28061.98 & 26808.78 & 25798.80 & 25820.46 & 26035.77 & 26451.24 & 26853.42 & 30627.32 & ...      & 39661.98 & 39211.00 & 39760.12 & 39633.29 & 37621.41 & 35954.18 & 35114.12 & 34066.40 & 33686.83 & 31733.54\\\\\n",
       "\t107 & 35653.04 & 28890.37 & 27133.75 & 25656.13 & 24937.87 & 24538.16 & 24616.05 & 24478.14 & 23813.35 & 24676.92 & ...      & 38086.11 & 37834.89 & 38599.34 & 38669.63 & 36954.78 & 35306.11 & 34301.59 & 33400.82 & 33359.37 & 31629.97\\\\\n",
       "\t131 & 36427.94 & 27130.75 & 25403.40 & 24452.96 & 23959.85 & 23839.28 & 24358.46 & 25800.81 & 27336.03 & 32683.24 & ...      & 36847.22 & 36433.88 & 37581.09 & 37304.52 & 35832.00 & 34499.94 & 33670.00 & 32931.12 & 32913.06 & 31450.65\\\\\n",
       "\\end{tabular}\n"
      ],
      "text/markdown": [
       "\n",
       "| <!--/--> | train_y | train_lag_day2_hour_0 | train_lag_day2_hour_1 | train_lag_day2_hour_2 | train_lag_day2_hour_3 | train_lag_day2_hour_4 | train_lag_day2_hour_5 | train_lag_day2_hour_6 | train_lag_day2_hour_7 | train_lag_day2_hour_8 | ... | train_lag_day7_hour_14 | train_lag_day7_hour_15 | train_lag_day7_hour_16 | train_lag_day7_hour_17 | train_lag_day7_hour_18 | train_lag_day7_hour_19 | train_lag_day7_hour_20 | train_lag_day7_hour_21 | train_lag_day7_hour_22 | train_lag_day7_hour_23 |\n",
       "|---|---|---|---|---|---|---|---|---|---|---|---|---|---|---|---|---|---|---|---|---|---|\n",
       "| 11 | 36843.20 | 29189.27 | 27614.02 | 26578.97 | 25719.19 | 25864.63 | 25918.59 | 27091.94 | 28533.05 | 33203.34 | ...      | 29548.32 | 29390.89 | 30734.97 | 32048.02 | 31438.11 | 30728.47 | 30166.14 | 29461.28 | 29242.83 | 28069.09 |\n",
       "| 35 | 34792.84 | 28763.95 | 27284.84 | 26321.95 | 25748.49 | 25636.58 | 25932.52 | 26963.74 | 28444.83 | 32804.27 | ...      | 32796.18 | 32594.55 | 33358.47 | 34387.95 | 33591.26 | 32648.83 | 31897.73 | 31049.20 | 30906.43 | 29621.09 |\n",
       "| 59 | 28136.07 | 28602.02 | 27112.37 | 25975.34 | 25315.55 | 25128.15 | 25356.22 | 26338.72 | 28086.42 | 32702.24 | ...      | 31056.47 | 30979.53 | 32297.46 | 33462.96 | 33151.03 | 32450.21 | 32093.93 | 31315.16 | 31014.19 | 29462.06 |\n",
       "| 83 | 36707.21 | 29906.93 | 28061.98 | 26808.78 | 25798.80 | 25820.46 | 26035.77 | 26451.24 | 26853.42 | 30627.32 | ...      | 39661.98 | 39211.00 | 39760.12 | 39633.29 | 37621.41 | 35954.18 | 35114.12 | 34066.40 | 33686.83 | 31733.54 |\n",
       "| 107 | 35653.04 | 28890.37 | 27133.75 | 25656.13 | 24937.87 | 24538.16 | 24616.05 | 24478.14 | 23813.35 | 24676.92 | ...      | 38086.11 | 37834.89 | 38599.34 | 38669.63 | 36954.78 | 35306.11 | 34301.59 | 33400.82 | 33359.37 | 31629.97 |\n",
       "| 131 | 36427.94 | 27130.75 | 25403.40 | 24452.96 | 23959.85 | 23839.28 | 24358.46 | 25800.81 | 27336.03 | 32683.24 | ...      | 36847.22 | 36433.88 | 37581.09 | 37304.52 | 35832.00 | 34499.94 | 33670.00 | 32931.12 | 32913.06 | 31450.65 |\n",
       "\n"
      ],
      "text/plain": [
       "    train_y  train_lag_day2_hour_0 train_lag_day2_hour_1 train_lag_day2_hour_2\n",
       "11  36843.20 29189.27              27614.02              26578.97             \n",
       "35  34792.84 28763.95              27284.84              26321.95             \n",
       "59  28136.07 28602.02              27112.37              25975.34             \n",
       "83  36707.21 29906.93              28061.98              26808.78             \n",
       "107 35653.04 28890.37              27133.75              25656.13             \n",
       "131 36427.94 27130.75              25403.40              24452.96             \n",
       "    train_lag_day2_hour_3 train_lag_day2_hour_4 train_lag_day2_hour_5\n",
       "11  25719.19              25864.63              25918.59             \n",
       "35  25748.49              25636.58              25932.52             \n",
       "59  25315.55              25128.15              25356.22             \n",
       "83  25798.80              25820.46              26035.77             \n",
       "107 24937.87              24538.16              24616.05             \n",
       "131 23959.85              23839.28              24358.46             \n",
       "    train_lag_day2_hour_6 train_lag_day2_hour_7 train_lag_day2_hour_8 ...\n",
       "11  27091.94              28533.05              33203.34              ...\n",
       "35  26963.74              28444.83              32804.27              ...\n",
       "59  26338.72              28086.42              32702.24              ...\n",
       "83  26451.24              26853.42              30627.32              ...\n",
       "107 24478.14              23813.35              24676.92              ...\n",
       "131 25800.81              27336.03              32683.24              ...\n",
       "    train_lag_day7_hour_14 train_lag_day7_hour_15 train_lag_day7_hour_16\n",
       "11  29548.32               29390.89               30734.97              \n",
       "35  32796.18               32594.55               33358.47              \n",
       "59  31056.47               30979.53               32297.46              \n",
       "83  39661.98               39211.00               39760.12              \n",
       "107 38086.11               37834.89               38599.34              \n",
       "131 36847.22               36433.88               37581.09              \n",
       "    train_lag_day7_hour_17 train_lag_day7_hour_18 train_lag_day7_hour_19\n",
       "11  32048.02               31438.11               30728.47              \n",
       "35  34387.95               33591.26               32648.83              \n",
       "59  33462.96               33151.03               32450.21              \n",
       "83  39633.29               37621.41               35954.18              \n",
       "107 38669.63               36954.78               35306.11              \n",
       "131 37304.52               35832.00               34499.94              \n",
       "    train_lag_day7_hour_20 train_lag_day7_hour_21 train_lag_day7_hour_22\n",
       "11  30166.14               29461.28               29242.83              \n",
       "35  31897.73               31049.20               30906.43              \n",
       "59  32093.93               31315.16               31014.19              \n",
       "83  35114.12               34066.40               33686.83              \n",
       "107 34301.59               33400.82               33359.37              \n",
       "131 33670.00               32931.12               32913.06              \n",
       "    train_lag_day7_hour_23\n",
       "11  28069.09              \n",
       "35  29621.09              \n",
       "59  29462.06              \n",
       "83  31733.54              \n",
       "107 31629.97              \n",
       "131 31450.65              "
      ]
     },
     "metadata": {},
     "output_type": "display_data"
    }
   ],
   "source": [
    "#Let's extract our different training data for each hour from our training data (the frame defined above)\n",
    "for (i in 0:23){\n",
    "    assign(paste(\"training_data_\",i,sep=\"\"),training_data[seq(i+1,nrow(training_data),24),])\n",
    "}\n",
    "#Let's also look at the first rows of our training data for 0th and 10th hour.\n",
    "head(training_data_0)\n",
    "head(training_data_10)"
   ]
  },
  {
   "cell_type": "code",
   "execution_count": 24,
   "metadata": {},
   "outputs": [
    {
     "name": "stderr",
     "output_type": "stream",
     "text": [
      "Loading required package: Matrix\n",
      "Loading required package: foreach\n",
      "Loaded glmnet 2.0-18\n",
      "\n"
     ]
    }
   ],
   "source": [
    "#Let's produce our models using our 24 training data. Here lasso regression is applied in the manner stated in the question.\n",
    "#No data standardization is needed because glmnet function does it by default.\n",
    "library(glmnet)\n",
    "cv.fit_0=cv.glmnet(as.matrix(training_data_0[,2:49]),training_data_0[,1],nfolds = 10)\n",
    "cv.fit_1=cv.glmnet(as.matrix(training_data_1[,2:49]),training_data_1[,1],nfolds = 10)\n",
    "cv.fit_2=cv.glmnet(as.matrix(training_data_2[,2:49]),training_data_2[,1],nfolds = 10)\n",
    "cv.fit_3=cv.glmnet(as.matrix(training_data_3[,2:49]),training_data_3[,1],nfolds = 10)\n",
    "cv.fit_4=cv.glmnet(as.matrix(training_data_4[,2:49]),training_data_4[,1],nfolds = 10)\n",
    "cv.fit_5=cv.glmnet(as.matrix(training_data_5[,2:49]),training_data_5[,1],nfolds = 10)\n",
    "cv.fit_6=cv.glmnet(as.matrix(training_data_6[,2:49]),training_data_6[,1],nfolds = 10)\n",
    "cv.fit_7=cv.glmnet(as.matrix(training_data_7[,2:49]),training_data_7[,1],nfolds = 10)\n",
    "cv.fit_8=cv.glmnet(as.matrix(training_data_8[,2:49]),training_data_8[,1],nfolds = 10)\n",
    "cv.fit_9=cv.glmnet(as.matrix(training_data_9[,2:49]),training_data_9[,1],nfolds = 10)\n",
    "cv.fit_10=cv.glmnet(as.matrix(training_data_10[,2:49]),training_data_10[,1],nfolds = 10)\n",
    "cv.fit_11=cv.glmnet(as.matrix(training_data_11[,2:49]),training_data_11[,1],nfolds = 10)\n",
    "cv.fit_12=cv.glmnet(as.matrix(training_data_12[,2:49]),training_data_12[,1],nfolds = 10)\n",
    "cv.fit_13=cv.glmnet(as.matrix(training_data_13[,2:49]),training_data_13[,1],nfolds = 10)\n",
    "cv.fit_14=cv.glmnet(as.matrix(training_data_14[,2:49]),training_data_14[,1],nfolds = 10)\n",
    "cv.fit_15=cv.glmnet(as.matrix(training_data_15[,2:49]),training_data_15[,1],nfolds = 10)\n",
    "cv.fit_16=cv.glmnet(as.matrix(training_data_16[,2:49]),training_data_16[,1],nfolds = 10)\n",
    "cv.fit_17=cv.glmnet(as.matrix(training_data_17[,2:49]),training_data_17[,1],nfolds = 10)\n",
    "cv.fit_18=cv.glmnet(as.matrix(training_data_18[,2:49]),training_data_18[,1],nfolds = 10)\n",
    "cv.fit_19=cv.glmnet(as.matrix(training_data_19[,2:49]),training_data_19[,1],nfolds = 10)\n",
    "cv.fit_20=cv.glmnet(as.matrix(training_data_20[,2:49]),training_data_20[,1],nfolds = 10)\n",
    "cv.fit_21=cv.glmnet(as.matrix(training_data_21[,2:49]),training_data_21[,1],nfolds = 10)\n",
    "cv.fit_22=cv.glmnet(as.matrix(training_data_22[,2:49]),training_data_22[,1],nfolds = 10)\n",
    "cv.fit_23=cv.glmnet(as.matrix(training_data_23[,2:49]),training_data_23[,1],nfolds = 10)"
   ]
  },
  {
   "cell_type": "code",
   "execution_count": 25,
   "metadata": {},
   "outputs": [],
   "source": [
    "#Let's again define the observation numbers (boundaries) that we are going to use while producing our test data.\n",
    "test_y_obs1=train_y_obs2+169\n",
    "test_y_obs2=max(consumption$Observation)\n",
    "test_x2_obs1=train_y_obs2+1\n",
    "test_x2_obs2=test_y_obs2-168\n",
    "test_x1_obs1=train_y_obs2+121\n",
    "test_x1_obs2=test_y_obs2-48\n",
    "\n",
    "#Let's produce our test data as a whole.\n",
    "\n",
    "test_x1=consumption[(test_x1_obs1 <= consumption$Observation) & (consumption$Observation <= test_x1_obs2),3]\n",
    "test_x2=consumption[(test_x2_obs1 <= consumption$Observation) & (consumption$Observation <= test_x2_obs2),3]\n",
    "test_y=consumption[(test_y_obs1 <= consumption$Observation) & (consumption$Observation <= test_y_obs2),3]\n",
    "\n",
    "#Let's extract the 48 columns from hour test data.\n",
    "\n",
    "for (i in 0:23){\n",
    "    assign(paste(\"test_lag_day2_hour_\",i,sep=\"\"),test_x1[seq(i+1,length(test_x1),24)])\n",
    "    assign(paste(\"test_lag_day7_hour_\",i,sep=\"\"),test_x2[seq(i+1,length(test_x2),24)])\n",
    "    \n",
    "}\n",
    "\n",
    "\n",
    "test_lag_day2_hour_0=rep(test_lag_day2_hour_0,each=24)\n",
    "test_lag_day7_hour_0=rep(test_lag_day7_hour_0,each=24)\n",
    "test_lag_day2_hour_1=rep(test_lag_day2_hour_1,each=24)\n",
    "test_lag_day7_hour_1=rep(test_lag_day7_hour_1,each=24)\n",
    "test_lag_day2_hour_2=rep(test_lag_day2_hour_2,each=24)\n",
    "test_lag_day7_hour_2=rep(test_lag_day7_hour_2,each=24)\n",
    "test_lag_day2_hour_3=rep(test_lag_day2_hour_3,each=24)\n",
    "test_lag_day7_hour_3=rep(test_lag_day7_hour_3,each=24)\n",
    "test_lag_day2_hour_4=rep(test_lag_day2_hour_4,each=24)\n",
    "test_lag_day7_hour_4=rep(test_lag_day7_hour_4,each=24)\n",
    "test_lag_day2_hour_5=rep(test_lag_day2_hour_5,each=24)\n",
    "test_lag_day7_hour_5=rep(test_lag_day7_hour_5,each=24)\n",
    "test_lag_day2_hour_6=rep(test_lag_day2_hour_6,each=24)\n",
    "test_lag_day7_hour_6=rep(test_lag_day7_hour_6,each=24)\n",
    "test_lag_day2_hour_7=rep(test_lag_day2_hour_7,each=24)\n",
    "test_lag_day7_hour_8=rep(test_lag_day7_hour_7,each=24)\n",
    "test_lag_day2_hour_8=rep(test_lag_day2_hour_8,each=24)\n",
    "test_lag_day7_hour_8=rep(test_lag_day7_hour_8,each=24)\n",
    "test_lag_day2_hour_9=rep(test_lag_day2_hour_9,each=24)\n",
    "test_lag_day7_hour_9=rep(test_lag_day7_hour_9,each=24)\n",
    "test_lag_day2_hour_10=rep(test_lag_day2_hour_10,each=24)\n",
    "test_lag_day7_hour_10=rep(test_lag_day7_hour_10,each=24)\n",
    "test_lag_day2_hour_11=rep(test_lag_day2_hour_11,each=24)\n",
    "test_lag_day7_hour_11=rep(test_lag_day7_hour_11,each=24)\n",
    "test_lag_day2_hour_12=rep(test_lag_day2_hour_12,each=24)\n",
    "test_lag_day7_hour_12=rep(test_lag_day7_hour_12,each=24)\n",
    "test_lag_day2_hour_13=rep(test_lag_day2_hour_13,each=24)\n",
    "test_lag_day7_hour_13=rep(test_lag_day7_hour_13,each=24)\n",
    "test_lag_day2_hour_14=rep(test_lag_day2_hour_14,each=24)\n",
    "test_lag_day7_hour_14=rep(test_lag_day7_hour_14,each=24)\n",
    "test_lag_day2_hour_15=rep(test_lag_day2_hour_15,each=24)\n",
    "test_lag_day7_hour_15=rep(test_lag_day7_hour_15,each=24)\n",
    "test_lag_day2_hour_16=rep(test_lag_day2_hour_16,each=24)\n",
    "test_lag_day7_hour_16=rep(test_lag_day7_hour_16,each=24)\n",
    "test_lag_day2_hour_17=rep(test_lag_day2_hour_17,each=24)\n",
    "test_lag_day7_hour_17=rep(test_lag_day7_hour_17,each=24)\n",
    "test_lag_day2_hour_18=rep(test_lag_day2_hour_18,each=24)\n",
    "test_lag_day7_hour_18=rep(test_lag_day7_hour_18,each=24)\n",
    "test_lag_day2_hour_19=rep(test_lag_day2_hour_19,each=24)\n",
    "test_lag_day7_hour_19=rep(test_lag_day7_hour_19,each=24)\n",
    "test_lag_day2_hour_20=rep(test_lag_day2_hour_20,each=24)\n",
    "test_lag_day7_hour_20=rep(test_lag_day7_hour_20,each=24)\n",
    "test_lag_day2_hour_21=rep(test_lag_day2_hour_21,each=24)\n",
    "test_lag_day7_hour_21=rep(test_lag_day7_hour_21,each=24)\n",
    "test_lag_day2_hour_22=rep(test_lag_day2_hour_22,each=24)\n",
    "test_lag_day7_hour_22=rep(test_lag_day7_hour_22,each=24)\n",
    "test_lag_day2_hour_23=rep(test_lag_day2_hour_23,each=24)\n",
    "test_lag_day7_hour_23=rep(test_lag_day7_hour_23,each=24)\n",
    "\n",
    "#Let's produce our test data as a frame in wide format.\n",
    "testing_data=data.frame(test_y,test_lag_day2_hour_0,test_lag_day2_hour_1,test_lag_day2_hour_2,test_lag_day2_hour_3,\n",
    "test_lag_day2_hour_4,test_lag_day2_hour_5,test_lag_day2_hour_6,test_lag_day2_hour_7,test_lag_day2_hour_8,\n",
    "test_lag_day2_hour_9,test_lag_day2_hour_10,test_lag_day2_hour_11,test_lag_day2_hour_12,test_lag_day2_hour_13,\n",
    "test_lag_day2_hour_14,test_lag_day2_hour_15,test_lag_day2_hour_16,test_lag_day2_hour_17,\n",
    "test_lag_day2_hour_18,test_lag_day2_hour_19,test_lag_day2_hour_20,test_lag_day2_hour_21,test_lag_day2_hour_22,\n",
    "test_lag_day2_hour_23,test_lag_day7_hour_0,test_lag_day7_hour_1,test_lag_day7_hour_2,test_lag_day7_hour_3,\n",
    "test_lag_day7_hour_4,test_lag_day7_hour_5,test_lag_day7_hour_6,test_lag_day7_hour_7,test_lag_day7_hour_8,\n",
    "test_lag_day7_hour_9,test_lag_day7_hour_10,test_lag_day7_hour_11,test_lag_day7_hour_12,test_lag_day7_hour_13,\n",
    "test_lag_day7_hour_14,test_lag_day7_hour_15,test_lag_day7_hour_16,test_lag_day7_hour_17,\n",
    "test_lag_day7_hour_18,test_lag_day7_hour_19,test_lag_day7_hour_20,test_lag_day7_hour_21,test_lag_day7_hour_22,\n",
    "test_lag_day7_hour_23)\n",
    "\n",
    "#Let's extract our different test data for each hour from our test data (the frame defined above)\n",
    "\n",
    "for (i in 0:23){\n",
    "    assign(paste(\"testing_data_\",i,sep=\"\"),testing_data[seq(i+1,nrow(testing_data),24),])\n",
    "}"
   ]
  },
  {
   "cell_type": "code",
   "execution_count": 26,
   "metadata": {},
   "outputs": [
    {
     "name": "stdout",
     "output_type": "stream",
     "text": [
      "[1] \"MAPE for the approach in task d is  2.48963895366617\"\n"
     ]
    }
   ],
   "source": [
    "#Let's make our predictions for each hour using our models and test data.\n",
    "#s value (value of the penalty parameter lambda) is used as lambda.min which is the value of lambda that gives the minimum\n",
    "#cvm(mean cross-validated error).\n",
    "prediction_y_0=predict(cv.fit_0,newx=as.matrix(testing_data_0[,2:49]),s=cv.fit_0$lambda.min)\n",
    "prediction_y_1=predict(cv.fit_1,newx=as.matrix(testing_data_1[,2:49]),s=cv.fit_1$lambda.min)\n",
    "prediction_y_2=predict(cv.fit_2,newx=as.matrix(testing_data_2[,2:49]),s=cv.fit_2$lambda.min)\n",
    "prediction_y_3=predict(cv.fit_3,newx=as.matrix(testing_data_3[,2:49]),s=cv.fit_3$lambda.min)\n",
    "prediction_y_4=predict(cv.fit_4,newx=as.matrix(testing_data_4[,2:49]),s=cv.fit_4$lambda.min)\n",
    "prediction_y_5=predict(cv.fit_5,newx=as.matrix(testing_data_5[,2:49]),s=cv.fit_5$lambda.min)\n",
    "prediction_y_6=predict(cv.fit_6,newx=as.matrix(testing_data_6[,2:49]),s=cv.fit_6$lambda.min)\n",
    "prediction_y_7=predict(cv.fit_7,newx=as.matrix(testing_data_7[,2:49]),s=cv.fit_7$lambda.min)\n",
    "prediction_y_8=predict(cv.fit_8,newx=as.matrix(testing_data_8[,2:49]),s=cv.fit_8$lambda.min)\n",
    "prediction_y_9=predict(cv.fit_9,newx=as.matrix(testing_data_9[,2:49]),s=cv.fit_9$lambda.min)\n",
    "prediction_y_10=predict(cv.fit_10,newx=as.matrix(testing_data_10[,2:49]),s=cv.fit_10$lambda.min)\n",
    "prediction_y_11=predict(cv.fit_11,newx=as.matrix(testing_data_11[,2:49]),s=cv.fit_11$lambda.min)\n",
    "prediction_y_12=predict(cv.fit_12,newx=as.matrix(testing_data_12[,2:49]),s=cv.fit_12$lambda.min)\n",
    "prediction_y_13=predict(cv.fit_13,newx=as.matrix(testing_data_13[,2:49]),s=cv.fit_13$lambda.min)\n",
    "prediction_y_14=predict(cv.fit_14,newx=as.matrix(testing_data_14[,2:49]),s=cv.fit_14$lambda.min)\n",
    "prediction_y_15=predict(cv.fit_15,newx=as.matrix(testing_data_15[,2:49]),s=cv.fit_15$lambda.min)\n",
    "prediction_y_16=predict(cv.fit_16,newx=as.matrix(testing_data_16[,2:49]),s=cv.fit_16$lambda.min)\n",
    "prediction_y_17=predict(cv.fit_17,newx=as.matrix(testing_data_17[,2:49]),s=cv.fit_17$lambda.min)\n",
    "prediction_y_18=predict(cv.fit_18,newx=as.matrix(testing_data_18[,2:49]),s=cv.fit_18$lambda.min)\n",
    "prediction_y_19=predict(cv.fit_19,newx=as.matrix(testing_data_19[,2:49]),s=cv.fit_19$lambda.min)\n",
    "prediction_y_20=predict(cv.fit_20,newx=as.matrix(testing_data_20[,2:49]),s=cv.fit_20$lambda.min)\n",
    "prediction_y_21=predict(cv.fit_21,newx=as.matrix(testing_data_21[,2:49]),s=cv.fit_21$lambda.min)\n",
    "prediction_y_22=predict(cv.fit_22,newx=as.matrix(testing_data_22[,2:49]),s=cv.fit_22$lambda.min)\n",
    "prediction_y_23=predict(cv.fit_23,newx=as.matrix(testing_data_23[,2:49]),s=cv.fit_23$lambda.min)\n",
    "\n",
    "#We produce our prediction vector and fill inside of it with our predictions for each hour and each day in the right order\n",
    "#in order to make a healthy comparison.\n",
    "prediction_y=vector()\n",
    "for (i in 1:length(prediction_y_0)){\n",
    "    prediction_y=c(prediction_y,prediction_y_0[i])\n",
    "    prediction_y=c(prediction_y,prediction_y_1[i])\n",
    "    prediction_y=c(prediction_y,prediction_y_2[i])\n",
    "    prediction_y=c(prediction_y,prediction_y_3[i])\n",
    "    prediction_y=c(prediction_y,prediction_y_4[i])\n",
    "    prediction_y=c(prediction_y,prediction_y_5[i])\n",
    "    prediction_y=c(prediction_y,prediction_y_6[i])\n",
    "    prediction_y=c(prediction_y,prediction_y_7[i])\n",
    "    prediction_y=c(prediction_y,prediction_y_8[i])\n",
    "    prediction_y=c(prediction_y,prediction_y_9[i])\n",
    "    prediction_y=c(prediction_y,prediction_y_10[i])\n",
    "    prediction_y=c(prediction_y,prediction_y_11[i])\n",
    "    prediction_y=c(prediction_y,prediction_y_12[i])\n",
    "    prediction_y=c(prediction_y,prediction_y_13[i])\n",
    "    prediction_y=c(prediction_y,prediction_y_14[i])\n",
    "    prediction_y=c(prediction_y,prediction_y_15[i])\n",
    "    prediction_y=c(prediction_y,prediction_y_16[i])\n",
    "    prediction_y=c(prediction_y,prediction_y_17[i])\n",
    "    prediction_y=c(prediction_y,prediction_y_18[i])\n",
    "    prediction_y=c(prediction_y,prediction_y_19[i])\n",
    "    prediction_y=c(prediction_y,prediction_y_20[i])\n",
    "    prediction_y=c(prediction_y,prediction_y_21[i])\n",
    "    prediction_y=c(prediction_y,prediction_y_22[i])\n",
    "    prediction_y=c(prediction_y,prediction_y_23[i])\n",
    "}\n",
    "\n",
    "#We compare our prediction vector with real data (test y) and find our mape value.\n",
    "\n",
    "mape_task_d=(sum(abs((as.data.frame(prediction_y) - as.data.frame(testing_data[,1])) / as.data.frame(testing_data[,1])))/length(testing_data[,1])) * 100\n",
    "print(paste('MAPE for the approach in task d is ',mape_task_d))"
   ]
  },
  {
   "cell_type": "markdown",
   "metadata": {},
   "source": [
    "Here, Lasso regression showed its strength and we again managed to find a small MAPE value. However, our naive approach with 168 hours gave a smaller MAPE value and this surprised me. I was expecting to find a smaller MAPE value with Lasso regression. Here, maybe it is because of the different approach used while preparing training and test datasets for both approaches."
   ]
  },
  {
   "cell_type": "code",
   "execution_count": 27,
   "metadata": {},
   "outputs": [],
   "source": [
    "#Let's put mape values in a vector for each hour in the test period.\n",
    "mape_task_d_list=vector()\n",
    "for (i in 1:24){\n",
    "    mape=(sum(abs((as.data.frame(prediction_y[seq(i,length(prediction_y),24)]) - as.data.frame(testing_data[,1][seq(i,length(prediction_y),24)])) / as.data.frame(testing_data[,1][seq(i,length(prediction_y),24)])))/length(testing_data[,1][seq(i,length(prediction_y),24)])) * 100\n",
    "    mape_task_d_list=c(mape_task_d_list,mape)\n",
    "}"
   ]
  },
  {
   "cell_type": "code",
   "execution_count": 28,
   "metadata": {},
   "outputs": [
    {
     "name": "stdout",
     "output_type": "stream",
     "text": [
      "[1] \"The mean for MAPE values for each hour over the test period is 2.48963895366617. This is consistent with the result found above.\"\n"
     ]
    },
    {
     "data": {
      "image/png": "[encoded data removed]",
      "text/plain": [
       "Plot with title \"MAPE values\""
      ]
     },
     "metadata": {},
     "output_type": "display_data"
    }
   ],
   "source": [
    "#Let's check the consistency between mean of these mape values and the mape value found above. They must be equal.\n",
    "#Let's also draw a boxplot diagram for these mape values.\n",
    "print(paste0(\"The mean for MAPE values for each hour over the test period is \",mean(mape_task_d_list),\". This is consistent with the result found above.\"))\n",
    "boxplot(mape_task_d_list,main=\"MAPE values\")"
   ]
  },
  {
   "cell_type": "code",
   "execution_count": 29,
   "metadata": {},
   "outputs": [
    {
     "name": "stdout",
     "output_type": "stream",
     "text": [
      "[1] \"For the first model the intercept coefficient is 816.731819211494. Other coefficients are as the following\"\n"
     ]
    },
    {
     "data": {
      "text/html": [
       "<table>\n",
       "<thead><tr><th scope=col>coefficients(cv.fit_0)[-1]</th></tr></thead>\n",
       "<tbody>\n",
       "\t<tr><td>-0.3395320909</td></tr>\n",
       "\t<tr><td>-0.1546382752</td></tr>\n",
       "\t<tr><td>-0.0312948644</td></tr>\n",
       "\t<tr><td> 0.0000000000</td></tr>\n",
       "\t<tr><td> 0.3283363461</td></tr>\n",
       "\t<tr><td>-0.0243647853</td></tr>\n",
       "\t<tr><td>-0.0492266089</td></tr>\n",
       "\t<tr><td> 0.4702021278</td></tr>\n",
       "\t<tr><td> 0.0000000000</td></tr>\n",
       "\t<tr><td>-0.6030080492</td></tr>\n",
       "\t<tr><td>-0.2414278706</td></tr>\n",
       "\t<tr><td>-0.1523419795</td></tr>\n",
       "\t<tr><td> 0.1162292159</td></tr>\n",
       "\t<tr><td> 0.5074589837</td></tr>\n",
       "\t<tr><td>-0.1957640272</td></tr>\n",
       "\t<tr><td> 0.0160199800</td></tr>\n",
       "\t<tr><td> 0.0727933187</td></tr>\n",
       "\t<tr><td> 0.0000000000</td></tr>\n",
       "\t<tr><td>-0.0429643024</td></tr>\n",
       "\t<tr><td>-0.0290018245</td></tr>\n",
       "\t<tr><td>-0.1558997804</td></tr>\n",
       "\t<tr><td> 0.1549491934</td></tr>\n",
       "\t<tr><td> 0.2615986464</td></tr>\n",
       "\t<tr><td> 1.0969914735</td></tr>\n",
       "\t<tr><td> 0.0585495945</td></tr>\n",
       "\t<tr><td> 0.0662712177</td></tr>\n",
       "\t<tr><td>-0.0612363751</td></tr>\n",
       "\t<tr><td>-0.0794405655</td></tr>\n",
       "\t<tr><td> 0.0000000000</td></tr>\n",
       "\t<tr><td> 0.0000000000</td></tr>\n",
       "\t<tr><td> 0.3403892004</td></tr>\n",
       "\t<tr><td> 0.0482650518</td></tr>\n",
       "\t<tr><td> 0.0006297379</td></tr>\n",
       "\t<tr><td> 0.0000000000</td></tr>\n",
       "\t<tr><td> 0.0085317469</td></tr>\n",
       "\t<tr><td> 0.0000000000</td></tr>\n",
       "\t<tr><td> 0.0000000000</td></tr>\n",
       "\t<tr><td> 0.0064381578</td></tr>\n",
       "\t<tr><td> 0.1113184218</td></tr>\n",
       "\t<tr><td> 0.0027698748</td></tr>\n",
       "\t<tr><td> 0.0000000000</td></tr>\n",
       "\t<tr><td>-0.0004455489</td></tr>\n",
       "\t<tr><td> 0.0000000000</td></tr>\n",
       "\t<tr><td>-0.1711010782</td></tr>\n",
       "\t<tr><td>-0.2156948403</td></tr>\n",
       "\t<tr><td> 0.0000000000</td></tr>\n",
       "\t<tr><td>-0.0592861735</td></tr>\n",
       "\t<tr><td> 0.0281785226</td></tr>\n",
       "</tbody>\n",
       "</table>\n"
      ],
      "text/latex": [
       "\\begin{tabular}{r|l}\n",
       " coefficients(cv.fit\\_0){[}-1{]}\\\\\n",
       "\\hline\n",
       "\t -0.3395320909\\\\\n",
       "\t -0.1546382752\\\\\n",
       "\t -0.0312948644\\\\\n",
       "\t  0.0000000000\\\\\n",
       "\t  0.3283363461\\\\\n",
       "\t -0.0243647853\\\\\n",
       "\t -0.0492266089\\\\\n",
       "\t  0.4702021278\\\\\n",
       "\t  0.0000000000\\\\\n",
       "\t -0.6030080492\\\\\n",
       "\t -0.2414278706\\\\\n",
       "\t -0.1523419795\\\\\n",
       "\t  0.1162292159\\\\\n",
       "\t  0.5074589837\\\\\n",
       "\t -0.1957640272\\\\\n",
       "\t  0.0160199800\\\\\n",
       "\t  0.0727933187\\\\\n",
       "\t  0.0000000000\\\\\n",
       "\t -0.0429643024\\\\\n",
       "\t -0.0290018245\\\\\n",
       "\t -0.1558997804\\\\\n",
       "\t  0.1549491934\\\\\n",
       "\t  0.2615986464\\\\\n",
       "\t  1.0969914735\\\\\n",
       "\t  0.0585495945\\\\\n",
       "\t  0.0662712177\\\\\n",
       "\t -0.0612363751\\\\\n",
       "\t -0.0794405655\\\\\n",
       "\t  0.0000000000\\\\\n",
       "\t  0.0000000000\\\\\n",
       "\t  0.3403892004\\\\\n",
       "\t  0.0482650518\\\\\n",
       "\t  0.0006297379\\\\\n",
       "\t  0.0000000000\\\\\n",
       "\t  0.0085317469\\\\\n",
       "\t  0.0000000000\\\\\n",
       "\t  0.0000000000\\\\\n",
       "\t  0.0064381578\\\\\n",
       "\t  0.1113184218\\\\\n",
       "\t  0.0027698748\\\\\n",
       "\t  0.0000000000\\\\\n",
       "\t -0.0004455489\\\\\n",
       "\t  0.0000000000\\\\\n",
       "\t -0.1711010782\\\\\n",
       "\t -0.2156948403\\\\\n",
       "\t  0.0000000000\\\\\n",
       "\t -0.0592861735\\\\\n",
       "\t  0.0281785226\\\\\n",
       "\\end{tabular}\n"
      ],
      "text/markdown": [
       "\n",
       "| coefficients(cv.fit_0)[-1] |\n",
       "|---|\n",
       "| -0.3395320909 |\n",
       "| -0.1546382752 |\n",
       "| -0.0312948644 |\n",
       "|  0.0000000000 |\n",
       "|  0.3283363461 |\n",
       "| -0.0243647853 |\n",
       "| -0.0492266089 |\n",
       "|  0.4702021278 |\n",
       "|  0.0000000000 |\n",
       "| -0.6030080492 |\n",
       "| -0.2414278706 |\n",
       "| -0.1523419795 |\n",
       "|  0.1162292159 |\n",
       "|  0.5074589837 |\n",
       "| -0.1957640272 |\n",
       "|  0.0160199800 |\n",
       "|  0.0727933187 |\n",
       "|  0.0000000000 |\n",
       "| -0.0429643024 |\n",
       "| -0.0290018245 |\n",
       "| -0.1558997804 |\n",
       "|  0.1549491934 |\n",
       "|  0.2615986464 |\n",
       "|  1.0969914735 |\n",
       "|  0.0585495945 |\n",
       "|  0.0662712177 |\n",
       "| -0.0612363751 |\n",
       "| -0.0794405655 |\n",
       "|  0.0000000000 |\n",
       "|  0.0000000000 |\n",
       "|  0.3403892004 |\n",
       "|  0.0482650518 |\n",
       "|  0.0006297379 |\n",
       "|  0.0000000000 |\n",
       "|  0.0085317469 |\n",
       "|  0.0000000000 |\n",
       "|  0.0000000000 |\n",
       "|  0.0064381578 |\n",
       "|  0.1113184218 |\n",
       "|  0.0027698748 |\n",
       "|  0.0000000000 |\n",
       "| -0.0004455489 |\n",
       "|  0.0000000000 |\n",
       "| -0.1711010782 |\n",
       "| -0.2156948403 |\n",
       "|  0.0000000000 |\n",
       "| -0.0592861735 |\n",
       "|  0.0281785226 |\n",
       "\n"
      ],
      "text/plain": [
       "   coefficients(cv.fit_0)[-1]\n",
       "1  -0.3395320909             \n",
       "2  -0.1546382752             \n",
       "3  -0.0312948644             \n",
       "4   0.0000000000             \n",
       "5   0.3283363461             \n",
       "6  -0.0243647853             \n",
       "7  -0.0492266089             \n",
       "8   0.4702021278             \n",
       "9   0.0000000000             \n",
       "10 -0.6030080492             \n",
       "11 -0.2414278706             \n",
       "12 -0.1523419795             \n",
       "13  0.1162292159             \n",
       "14  0.5074589837             \n",
       "15 -0.1957640272             \n",
       "16  0.0160199800             \n",
       "17  0.0727933187             \n",
       "18  0.0000000000             \n",
       "19 -0.0429643024             \n",
       "20 -0.0290018245             \n",
       "21 -0.1558997804             \n",
       "22  0.1549491934             \n",
       "23  0.2615986464             \n",
       "24  1.0969914735             \n",
       "25  0.0585495945             \n",
       "26  0.0662712177             \n",
       "27 -0.0612363751             \n",
       "28 -0.0794405655             \n",
       "29  0.0000000000             \n",
       "30  0.0000000000             \n",
       "31  0.3403892004             \n",
       "32  0.0482650518             \n",
       "33  0.0006297379             \n",
       "34  0.0000000000             \n",
       "35  0.0085317469             \n",
       "36  0.0000000000             \n",
       "37  0.0000000000             \n",
       "38  0.0064381578             \n",
       "39  0.1113184218             \n",
       "40  0.0027698748             \n",
       "41  0.0000000000             \n",
       "42 -0.0004455489             \n",
       "43  0.0000000000             \n",
       "44 -0.1711010782             \n",
       "45 -0.2156948403             \n",
       "46  0.0000000000             \n",
       "47 -0.0592861735             \n",
       "48  0.0281785226             "
      ]
     },
     "metadata": {},
     "output_type": "display_data"
    }
   ],
   "source": [
    "#Let's look at the coefficients of models. For example, let's start with the first model.\n",
    "print(paste0(\"For the first model the intercept coefficient is \",coefficients(cv.fit_0)[1],\". Other coefficients are as the following\"))\n",
    "as.data.frame(coefficients(cv.fit_0)[-1])"
   ]
  },
  {
   "cell_type": "markdown",
   "metadata": {},
   "source": [
    "We see that there is a great difference between the intercept coefficient and the coefficients of variables. We also see that some of the variable coefficients becomes 0 and the non-zero ones are close to 0. By Lasso regression some variables may be tried to be eliminated by equating its coefficient to 0 and we see this situation here as well. Coefficients which are close to 0 also decrease the variance and MAPE (error) value is decreased as well."
   ]
  },
  {
   "cell_type": "code",
   "execution_count": 30,
   "metadata": {},
   "outputs": [
    {
     "data": {
      "image/png": "[encoded data removed]",
      "text/plain": [
       "Plot with title \"Lasso Coefficients\""
      ]
     },
     "metadata": {},
     "output_type": "display_data"
    }
   ],
   "source": [
    "#Let's look at the coefficients of our lasso regression models in a graph. The coefficients are numbered according to\n",
    "#the order in our training data. For example, the first coefficient is for lag_day_2_hour_0, the second one is for\n",
    "#lag_day_2_hour_1 etc. There are 48 coefficients in each model like this. (Here, the intercept is excluded.)\n",
    "plot(coefficients(cv.fit_0)[-1],type=\"l\",col=1,ylim = c(-2.5,2.5),xlim=c(0,60),main=\"Lasso Coefficients\",\n",
    "     xlab=\"Coefficient Number\",ylab=\"Value\")\n",
    "points(coefficients(cv.fit_1)[-1],type=\"l\",col=2)\n",
    "points(coefficients(cv.fit_2)[-1],type=\"l\",col=3)\n",
    "points(coefficients(cv.fit_3)[-1],type=\"l\",col=4)\n",
    "points(coefficients(cv.fit_4)[-1],type=\"l\",col=5)\n",
    "points(coefficients(cv.fit_5)[-1],type=\"l\",col=6)\n",
    "points(coefficients(cv.fit_6)[-1],type=\"l\",col=7)\n",
    "points(coefficients(cv.fit_7)[-1],type=\"l\",col=8)\n",
    "points(coefficients(cv.fit_8)[-1],type=\"l\",col=9)\n",
    "points(coefficients(cv.fit_9)[-1],type=\"l\",col=10)\n",
    "points(coefficients(cv.fit_10)[-1],type=\"l\",col=11)\n",
    "points(coefficients(cv.fit_11)[-1],type=\"l\",col=12)\n",
    "points(coefficients(cv.fit_12)[-1],type=\"l\",col=13)\n",
    "points(coefficients(cv.fit_13)[-1],type=\"l\",col=14)\n",
    "points(coefficients(cv.fit_14)[-1],type=\"l\",col=15)\n",
    "points(coefficients(cv.fit_15)[-1],type=\"l\",col=16)\n",
    "points(coefficients(cv.fit_16)[-1],type=\"l\",col=17)\n",
    "points(coefficients(cv.fit_17)[-1],type=\"l\",col=18)\n",
    "points(coefficients(cv.fit_18)[-1],type=\"l\",col=19)\n",
    "points(coefficients(cv.fit_19)[-1],type=\"l\",col=20)\n",
    "points(coefficients(cv.fit_20)[-1],type=\"l\",col=21)\n",
    "points(coefficients(cv.fit_21)[-1],type=\"l\",col=22)\n",
    "points(coefficients(cv.fit_22)[-1],type=\"l\",col=23)\n",
    "points(coefficients(cv.fit_23)[-1],type=\"l\",col=24)\n",
    " par(xpd=TRUE)\n",
    "legend(52,2,cex = 0.7,\n",
    "legend = c(\"model 1\",\"model 2\", \"model 3\",\"model 4\", \"model 5\",\"model 6\", \"model 7\",\n",
    "           \"model 8\", \"model 9\",\"model 10\", \"model 11\",\"model 12\", \"model 13\",\"model 14\", \"model 15\",\n",
    "           \"model 16\", \"model 17\",\"model 18\", \"model 19\",\"model 20\", \"model 21\",\"model 22\", \"model 23\", \"model 24\"), \n",
    "col = c(1,2,3,4,5,6,7,8,9,10,11,12,13,14,15,16,17,18,19,20,21,22,23), pch = \"-\")"
   ]
  },
  {
   "cell_type": "markdown",
   "metadata": {},
   "source": [
    "With regards to the above graph, we can think that coefficient value moves away from 0 when there is an important change\n",
    "in the consumption value for that hour compared to previous hour. We also see that coefficient values are generally similar for different models. As an another point, although the coefficient values change in a small interval like between -2 and 2, with regards to the above graph we see quick changes on coefficient values of a model in this interval and this causes a relatively big difference between consecutive or temporally close coefficients of a model. With fused lasso approach these coefficients are tried to get closer to each other."
   ]
  },
  {
   "cell_type": "markdown",
   "metadata": {},
   "source": [
    "# Task e (Bonus)"
   ]
  },
  {
   "cell_type": "code",
   "execution_count": 31,
   "metadata": {},
   "outputs": [],
   "source": [
    "#Here, we are going to make a fused lasso approach. In order to implement it in a simple way, I used the objective function\n",
    "#min MSE + lambda * sum(abs(Beta[j]-Beta[j-1])) with CVXR package. Normally SSE is used instead of MSE, but when I used SSE\n",
    "#I got an unexpected solver error from CVXR package and decided to use MSE instead of SSE (with MSE I don't get any error).\n",
    "#Here in order to find a good value for parameter lambda and to implement fused lasso in a healthy way a cross validation\n",
    "#is required. However, I could not find a way to make cross validation and used the lambdas found in lasso regression.\n",
    "#I put them in a list like the following and used each of them with its corresponding dataset in the previous question\n",
    "#(the same datasets are used in task d and task e). \n",
    "lambda_list=c(cv.fit_0$lambda.min,cv.fit_1$lambda.min,cv.fit_2$lambda.min,cv.fit_3$lambda.min,cv.fit_4$lambda.min,\n",
    "         cv.fit_5$lambda.min,cv.fit_6$lambda.min,cv.fit_7$lambda.min,cv.fit_8$lambda.min,cv.fit_9$lambda.min,\n",
    "         cv.fit_10$lambda.min,cv.fit_11$lambda.min,cv.fit_12$lambda.min,cv.fit_13$lambda.min,cv.fit_14$lambda.min,\n",
    "         cv.fit_15$lambda.min,cv.fit_16$lambda.min,cv.fit_17$lambda.min,cv.fit_18$lambda.min,cv.fit_19$lambda.min,\n",
    "         cv.fit_20$lambda.min,cv.fit_21$lambda.min,cv.fit_22$lambda.min,cv.fit_23$lambda.min)\n"
   ]
  },
  {
   "cell_type": "code",
   "execution_count": 32,
   "metadata": {},
   "outputs": [
    {
     "name": "stderr",
     "output_type": "stream",
     "text": [
      "\n",
      "Attaching package: 'CVXR'\n",
      "\n",
      "The following object is masked from 'package:dplyr':\n",
      "\n",
      "    id\n",
      "\n",
      "The following object is masked from 'package:stats':\n",
      "\n",
      "    power\n",
      "\n"
     ]
    },
    {
     "name": "stdout",
     "output_type": "stream",
     "text": [
      "[1] \"MAPE for the approach in task e is  3.37545552025851\"\n"
     ]
    }
   ],
   "source": [
    "#Here we solve our objective functions in a loop for each of our models. We also make our predictions for each model\n",
    "#in this loop. We collect beta and prediction values for each model as well. Here, we are doing things manually and\n",
    "#we also do a standardization of data. The results are obtained from this standardized data with the X*Beta multiplication\n",
    "#the result of this multiplication is transformed to its original structure.\n",
    "library(CVXR)\n",
    "for (i in 1:24){\n",
    "    beta=Variable(49)\n",
    "    lambda=lambda_list[i]\n",
    "    scaled_training_data=scale(training_data[seq(i,nrow(training_data),24),])\n",
    "    norm=0\n",
    "    for (j in 2:25) { norm= norm + abs(beta[j] - beta[j-1]) } #We use difference between consecutive coefficients of lag_day2.\n",
    "    for (j in 26:49) { norm= norm + abs(beta[j] - beta[j-1]) } #We use difference between consecutive coefficients of lag_day7.\n",
    "    #This seperation is necessary between coefficients of lag_day2 and lag_day7 while calculating the penalty in fused lasso.\n",
    "    obj = sum_squares(scaled_training_data[,1] - (cbind(1,as.matrix(scaled_training_data[,2:49]))) %*% beta) / (nrow(scaled_training_data[,2:49])) + lambda * norm\n",
    "    prob = Problem(Minimize(obj))\n",
    "    result = solve(prob)\n",
    "        \n",
    "    \n",
    "    \n",
    "    m=mean(testing_data[seq(i,nrow(testing_data),24),][,1])\n",
    "    sd=sd(testing_data[seq(i,nrow(testing_data),24),][,1])\n",
    "    scaled_testing_data=scale(testing_data[seq(i,nrow(testing_data),24),])\n",
    "    \n",
    "    \n",
    "    assign(paste0(\"prediction_y_\",i),((cbind(1,as.matrix(scaled_testing_data[,2:49]))) %*% result$getValue(beta))*sd+m)\n",
    "    assign(paste0(\"beta_\",i),result$getValue(beta))\n",
    "    \n",
    "}\n",
    "\n",
    "#We produce our prediction vector and fill inside of it with our predictions for each hour and each day in the right order\n",
    "#in order to make a healthy comparison.\n",
    "\n",
    "prediction_y=vector()\n",
    "for (i in 1:length(prediction_y_1)){\n",
    "    prediction_y=c(prediction_y,prediction_y_1[i])\n",
    "    prediction_y=c(prediction_y,prediction_y_2[i])\n",
    "    prediction_y=c(prediction_y,prediction_y_3[i])\n",
    "    prediction_y=c(prediction_y,prediction_y_4[i])\n",
    "    prediction_y=c(prediction_y,prediction_y_5[i])\n",
    "    prediction_y=c(prediction_y,prediction_y_6[i])\n",
    "    prediction_y=c(prediction_y,prediction_y_7[i])\n",
    "    prediction_y=c(prediction_y,prediction_y_8[i])\n",
    "    prediction_y=c(prediction_y,prediction_y_9[i])\n",
    "    prediction_y=c(prediction_y,prediction_y_10[i])\n",
    "    prediction_y=c(prediction_y,prediction_y_11[i])\n",
    "    prediction_y=c(prediction_y,prediction_y_12[i])\n",
    "    prediction_y=c(prediction_y,prediction_y_13[i])\n",
    "    prediction_y=c(prediction_y,prediction_y_14[i])\n",
    "    prediction_y=c(prediction_y,prediction_y_15[i])\n",
    "    prediction_y=c(prediction_y,prediction_y_16[i])\n",
    "    prediction_y=c(prediction_y,prediction_y_17[i])\n",
    "    prediction_y=c(prediction_y,prediction_y_18[i])\n",
    "    prediction_y=c(prediction_y,prediction_y_19[i])\n",
    "    prediction_y=c(prediction_y,prediction_y_20[i])\n",
    "    prediction_y=c(prediction_y,prediction_y_21[i])\n",
    "    prediction_y=c(prediction_y,prediction_y_22[i])\n",
    "    prediction_y=c(prediction_y,prediction_y_23[i])\n",
    "    prediction_y=c(prediction_y,prediction_y_24[i])\n",
    "}\n",
    "\n",
    "#We compare our prediction vector with real data (test y) and find our mape value.\n",
    "\n",
    "mape_task_e=(sum(abs((as.data.frame(prediction_y) - as.data.frame(testing_data[,1])) / as.data.frame(testing_data[,1])))/length(testing_data[,1])) * 100\n",
    "print(paste('MAPE for the approach in task e is ',mape_task_e))"
   ]
  },
  {
   "cell_type": "markdown",
   "metadata": {},
   "source": [
    "Although the lambda values are not set in a healthy way, our fused lasso approach performed better than 3 of our 5 previous approaches in terms of MAPE. We can say that this shows the strength of the fused lasso approach. "
   ]
  },
  {
   "cell_type": "code",
   "execution_count": 33,
   "metadata": {},
   "outputs": [],
   "source": [
    "#Let's put mape values in a vector for each hour in the test period.\n",
    "mape_task_e_list=vector()\n",
    "for (i in 1:24){\n",
    "    mape=(sum(abs((as.data.frame(prediction_y[seq(i,length(prediction_y),24)]) - as.data.frame(testing_data[,1][seq(i,length(prediction_y),24)])) / as.data.frame(testing_data[,1][seq(i,length(prediction_y),24)])))/length(testing_data[,1][seq(i,length(prediction_y),24)])) * 100\n",
    "    mape_task_e_list=c(mape_task_e_list,mape)\n",
    "}\n",
    "    "
   ]
  },
  {
   "cell_type": "code",
   "execution_count": 34,
   "metadata": {},
   "outputs": [
    {
     "name": "stdout",
     "output_type": "stream",
     "text": [
      "[1] \"The mean for MAPE values for each hour over the test period is 3.37545552025851. This is consistent with the result found above.\"\n"
     ]
    },
    {
     "data": {
      "image/png": "[encoded data removed]",
      "text/plain": [
       "Plot with title \"MAPE values\""
      ]
     },
     "metadata": {},
     "output_type": "display_data"
    }
   ],
   "source": [
    "#Let's check the consistency between mean of these mape values and the mape value found above. They must be equal.\n",
    "#Let's also draw a boxplot diagram for these mape values.\n",
    "print(paste0(\"The mean for MAPE values for each hour over the test period is \",mean(mape_task_e_list),\". This is consistent with the result found above.\"))\n",
    "boxplot(mape_task_e_list,main=\"MAPE values\")"
   ]
  },
  {
   "cell_type": "code",
   "execution_count": 35,
   "metadata": {},
   "outputs": [
    {
     "name": "stdout",
     "output_type": "stream",
     "text": [
      "[1] \"For the first model the intercept coefficient is 0.0415896092472461. Other coefficients are as the following\"\n"
     ]
    },
    {
     "data": {
      "text/html": [
       "<table>\n",
       "<thead><tr><th scope=col>beta_1[-1]</th></tr></thead>\n",
       "<tbody>\n",
       "\t<tr><td> 0.0415896418</td></tr>\n",
       "\t<tr><td> 0.0415896437</td></tr>\n",
       "\t<tr><td> 0.0415896165</td></tr>\n",
       "\t<tr><td> 0.0415895424</td></tr>\n",
       "\t<tr><td> 0.0415893276</td></tr>\n",
       "\t<tr><td>-0.0385948557</td></tr>\n",
       "\t<tr><td>-0.0385956949</td></tr>\n",
       "\t<tr><td>-0.0385958448</td></tr>\n",
       "\t<tr><td>-0.0385958994</td></tr>\n",
       "\t<tr><td>-0.0385959046</td></tr>\n",
       "\t<tr><td>-0.0385958689</td></tr>\n",
       "\t<tr><td>-0.0385957596</td></tr>\n",
       "\t<tr><td>-0.0385952049</td></tr>\n",
       "\t<tr><td> 0.0607379804</td></tr>\n",
       "\t<tr><td> 0.0607393578</td></tr>\n",
       "\t<tr><td> 0.0607843414</td></tr>\n",
       "\t<tr><td> 0.0648928990</td></tr>\n",
       "\t<tr><td> 0.0648955702</td></tr>\n",
       "\t<tr><td> 0.0648973063</td></tr>\n",
       "\t<tr><td> 0.0648989192</td></tr>\n",
       "\t<tr><td> 0.0648995834</td></tr>\n",
       "\t<tr><td> 0.0648996975</td></tr>\n",
       "\t<tr><td> 0.0648997192</td></tr>\n",
       "\t<tr><td> 0.0648996913</td></tr>\n",
       "\t<tr><td> 0.0648993808</td></tr>\n",
       "\t<tr><td> 0.0648988431</td></tr>\n",
       "\t<tr><td> 0.0648974185</td></tr>\n",
       "\t<tr><td> 0.0648918647</td></tr>\n",
       "\t<tr><td> 0.0387481046</td></tr>\n",
       "\t<tr><td> 0.0387466059</td></tr>\n",
       "\t<tr><td> 0.0387464261</td></tr>\n",
       "\t<tr><td> 0.0387463332</td></tr>\n",
       "\t<tr><td> 0.0009258294</td></tr>\n",
       "\t<tr><td> 0.0009236650</td></tr>\n",
       "\t<tr><td>-0.0015587303</td></tr>\n",
       "\t<tr><td>-0.0015604866</td></tr>\n",
       "\t<tr><td>-0.0015614483</td></tr>\n",
       "\t<tr><td>-0.0015622025</td></tr>\n",
       "\t<tr><td>-0.0015628175</td></tr>\n",
       "\t<tr><td>-0.0015633954</td></tr>\n",
       "\t<tr><td>-0.0015638707</td></tr>\n",
       "\t<tr><td>-0.0015642113</td></tr>\n",
       "\t<tr><td>-0.0015643935</td></tr>\n",
       "\t<tr><td>-0.0015644677</td></tr>\n",
       "\t<tr><td>-0.0015644896</td></tr>\n",
       "\t<tr><td>-0.0015644940</td></tr>\n",
       "\t<tr><td>-0.0015644963</td></tr>\n",
       "\t<tr><td>-0.0015644958</td></tr>\n",
       "</tbody>\n",
       "</table>\n"
      ],
      "text/latex": [
       "\\begin{tabular}{r|l}\n",
       " beta\\_1{[}-1{]}\\\\\n",
       "\\hline\n",
       "\t  0.0415896418\\\\\n",
       "\t  0.0415896437\\\\\n",
       "\t  0.0415896165\\\\\n",
       "\t  0.0415895424\\\\\n",
       "\t  0.0415893276\\\\\n",
       "\t -0.0385948557\\\\\n",
       "\t -0.0385956949\\\\\n",
       "\t -0.0385958448\\\\\n",
       "\t -0.0385958994\\\\\n",
       "\t -0.0385959046\\\\\n",
       "\t -0.0385958689\\\\\n",
       "\t -0.0385957596\\\\\n",
       "\t -0.0385952049\\\\\n",
       "\t  0.0607379804\\\\\n",
       "\t  0.0607393578\\\\\n",
       "\t  0.0607843414\\\\\n",
       "\t  0.0648928990\\\\\n",
       "\t  0.0648955702\\\\\n",
       "\t  0.0648973063\\\\\n",
       "\t  0.0648989192\\\\\n",
       "\t  0.0648995834\\\\\n",
       "\t  0.0648996975\\\\\n",
       "\t  0.0648997192\\\\\n",
       "\t  0.0648996913\\\\\n",
       "\t  0.0648993808\\\\\n",
       "\t  0.0648988431\\\\\n",
       "\t  0.0648974185\\\\\n",
       "\t  0.0648918647\\\\\n",
       "\t  0.0387481046\\\\\n",
       "\t  0.0387466059\\\\\n",
       "\t  0.0387464261\\\\\n",
       "\t  0.0387463332\\\\\n",
       "\t  0.0009258294\\\\\n",
       "\t  0.0009236650\\\\\n",
       "\t -0.0015587303\\\\\n",
       "\t -0.0015604866\\\\\n",
       "\t -0.0015614483\\\\\n",
       "\t -0.0015622025\\\\\n",
       "\t -0.0015628175\\\\\n",
       "\t -0.0015633954\\\\\n",
       "\t -0.0015638707\\\\\n",
       "\t -0.0015642113\\\\\n",
       "\t -0.0015643935\\\\\n",
       "\t -0.0015644677\\\\\n",
       "\t -0.0015644896\\\\\n",
       "\t -0.0015644940\\\\\n",
       "\t -0.0015644963\\\\\n",
       "\t -0.0015644958\\\\\n",
       "\\end{tabular}\n"
      ],
      "text/markdown": [
       "\n",
       "| beta_1[-1] |\n",
       "|---|\n",
       "|  0.0415896418 |\n",
       "|  0.0415896437 |\n",
       "|  0.0415896165 |\n",
       "|  0.0415895424 |\n",
       "|  0.0415893276 |\n",
       "| -0.0385948557 |\n",
       "| -0.0385956949 |\n",
       "| -0.0385958448 |\n",
       "| -0.0385958994 |\n",
       "| -0.0385959046 |\n",
       "| -0.0385958689 |\n",
       "| -0.0385957596 |\n",
       "| -0.0385952049 |\n",
       "|  0.0607379804 |\n",
       "|  0.0607393578 |\n",
       "|  0.0607843414 |\n",
       "|  0.0648928990 |\n",
       "|  0.0648955702 |\n",
       "|  0.0648973063 |\n",
       "|  0.0648989192 |\n",
       "|  0.0648995834 |\n",
       "|  0.0648996975 |\n",
       "|  0.0648997192 |\n",
       "|  0.0648996913 |\n",
       "|  0.0648993808 |\n",
       "|  0.0648988431 |\n",
       "|  0.0648974185 |\n",
       "|  0.0648918647 |\n",
       "|  0.0387481046 |\n",
       "|  0.0387466059 |\n",
       "|  0.0387464261 |\n",
       "|  0.0387463332 |\n",
       "|  0.0009258294 |\n",
       "|  0.0009236650 |\n",
       "| -0.0015587303 |\n",
       "| -0.0015604866 |\n",
       "| -0.0015614483 |\n",
       "| -0.0015622025 |\n",
       "| -0.0015628175 |\n",
       "| -0.0015633954 |\n",
       "| -0.0015638707 |\n",
       "| -0.0015642113 |\n",
       "| -0.0015643935 |\n",
       "| -0.0015644677 |\n",
       "| -0.0015644896 |\n",
       "| -0.0015644940 |\n",
       "| -0.0015644963 |\n",
       "| -0.0015644958 |\n",
       "\n"
      ],
      "text/plain": [
       "   beta_1[-1]   \n",
       "1   0.0415896418\n",
       "2   0.0415896437\n",
       "3   0.0415896165\n",
       "4   0.0415895424\n",
       "5   0.0415893276\n",
       "6  -0.0385948557\n",
       "7  -0.0385956949\n",
       "8  -0.0385958448\n",
       "9  -0.0385958994\n",
       "10 -0.0385959046\n",
       "11 -0.0385958689\n",
       "12 -0.0385957596\n",
       "13 -0.0385952049\n",
       "14  0.0607379804\n",
       "15  0.0607393578\n",
       "16  0.0607843414\n",
       "17  0.0648928990\n",
       "18  0.0648955702\n",
       "19  0.0648973063\n",
       "20  0.0648989192\n",
       "21  0.0648995834\n",
       "22  0.0648996975\n",
       "23  0.0648997192\n",
       "24  0.0648996913\n",
       "25  0.0648993808\n",
       "26  0.0648988431\n",
       "27  0.0648974185\n",
       "28  0.0648918647\n",
       "29  0.0387481046\n",
       "30  0.0387466059\n",
       "31  0.0387464261\n",
       "32  0.0387463332\n",
       "33  0.0009258294\n",
       "34  0.0009236650\n",
       "35 -0.0015587303\n",
       "36 -0.0015604866\n",
       "37 -0.0015614483\n",
       "38 -0.0015622025\n",
       "39 -0.0015628175\n",
       "40 -0.0015633954\n",
       "41 -0.0015638707\n",
       "42 -0.0015642113\n",
       "43 -0.0015643935\n",
       "44 -0.0015644677\n",
       "45 -0.0015644896\n",
       "46 -0.0015644940\n",
       "47 -0.0015644963\n",
       "48 -0.0015644958"
      ]
     },
     "metadata": {},
     "output_type": "display_data"
    }
   ],
   "source": [
    "#Let's look at the coefficients of models. For example, let's start with the first model.\n",
    "print(paste0(\"For the first model the intercept coefficient is \",beta_1[1],\". Other coefficients are as the following\"))\n",
    "as.data.frame(beta_1[-1])"
   ]
  },
  {
   "cell_type": "markdown",
   "metadata": {},
   "source": [
    "We see that coefficients (this time all coefficients including the intercept) are close to 0 and they are close to each other as well. There are not quick changes in the values of coefficients (especially for the consecutive coefficients) and this was one of our aims while using fused lasso regression in our time series data."
   ]
  },
  {
   "cell_type": "code",
   "execution_count": 36,
   "metadata": {},
   "outputs": [
    {
     "data": {
      "image/png": "[encoded data removed]",
      "text/plain": [
       "Plot with title \"Fused Lasso Coefficients\""
      ]
     },
     "metadata": {},
     "output_type": "display_data"
    }
   ],
   "source": [
    "#Let's look at the coefficients of our fused lasso regression models in a graph. The coefficients are numbered according to\n",
    "#the order in our training data. For example, the first coefficient is for lag_day_2_hour_0, the second one is for\n",
    "#lag_day_2_hour_1 etc. There are 48 coefficients in each model like this. (Here, the intercept is excluded.)\n",
    "plot(beta_1[-1],type=\"l\",col=1,ylim = c(-0.2,0.2),xlim=c(0,60),main=\"Fused Lasso Coefficients\",\n",
    "     xlab=\"Coefficient Number\",ylab=\"Value\")\n",
    "points(beta_2[-1],type=\"l\",col=2)\n",
    "points(beta_3[-1],type=\"l\",col=3)\n",
    "points(beta_4[-1],type=\"l\",col=4)\n",
    "points(beta_5[-1],type=\"l\",col=5)\n",
    "points(beta_6[-1],type=\"l\",col=6)\n",
    "points(beta_7[-1],type=\"l\",col=7)\n",
    "points(beta_8[-1],type=\"l\",col=8)\n",
    "points(beta_9[-1],type=\"l\",col=9)\n",
    "points(beta_10[-1],type=\"l\",col=10)\n",
    "points(beta_11[-1],type=\"l\",col=11)\n",
    "points(beta_12[-1],type=\"l\",col=12)\n",
    "points(beta_13[-1],type=\"l\",col=13)\n",
    "points(beta_14[-1],type=\"l\",col=14)\n",
    "points(beta_15[-1],type=\"l\",col=15)\n",
    "points(beta_16[-1],type=\"l\",col=16)\n",
    "points(beta_17[-1],type=\"l\",col=17)\n",
    "points(beta_18[-1],type=\"l\",col=18)\n",
    "points(beta_19[-1],type=\"l\",col=19)\n",
    "points(beta_20[-1],type=\"l\",col=20)\n",
    "points(beta_21[-1],type=\"l\",col=21)\n",
    "points(beta_22[-1],type=\"l\",col=22)\n",
    "points(beta_23[-1],type=\"l\",col=23)\n",
    "points(beta_24[-1],type=\"l\",col=24)\n",
    " par(xpd=TRUE)\n",
    "legend(52,0.2,cex = 0.7,\n",
    "legend = c(\"model 1\",\"model 2\", \"model 3\",\"model 4\", \"model 5\",\"model 6\", \"model 7\",\n",
    "           \"model 8\", \"model 9\",\"model 10\", \"model 11\",\"model 12\", \"model 13\",\"model 14\", \"model 15\",\n",
    "           \"model 16\", \"model 17\",\"model 18\", \"model 19\",\"model 20\", \"model 21\",\"model 22\", \"model 23\",\"model 24\"), \n",
    "col = c(1,2,3,4,5,6,7,8,9,10,11,12,13,14,15,16,17,18,19,20,21,22,23), pch = \"-\")"
   ]
  },
  {
   "cell_type": "markdown",
   "metadata": {},
   "source": [
    "The graph above is consistent with our inferences that we made from Beta_1. We see that as an important gain thanks to fused lasso approach the coefficients of our models (especially the coefficients of consecutive variables) are close to each other."
   ]
  },
  {
   "cell_type": "markdown",
   "metadata": {},
   "source": [
    "# Task f"
   ]
  },
  {
   "cell_type": "code",
   "execution_count": 37,
   "metadata": {},
   "outputs": [
    {
     "name": "stderr",
     "output_type": "stream",
     "text": [
      "Registered S3 methods overwritten by 'ggplot2':\n",
      "  method         from \n",
      "  [.quosures     rlang\n",
      "  c.quosures     rlang\n",
      "  print.quosures rlang\n"
     ]
    },
    {
     "data": {
      "image/png": "[encoded data removed]",
      "text/plain": [
       "plot without title"
      ]
     },
     "metadata": {},
     "output_type": "display_data"
    }
   ],
   "source": [
    "#Let's collect all of our mape lists that have the mape values for each hour in the test period for each approaches in a boxplot\n",
    "#diagram.\n",
    "library(ggplot2)\n",
    "df1=data.frame(value=mape_48h_list,group=\"mape_48h\")\n",
    "df2=data.frame(value=mape_168h_list,group=\"mape_168h\")\n",
    "df3=data.frame(value=mape_task_b_list,group=\"mape_task_b\")\n",
    "df4=data.frame(value=mape_task_c_list,group=\"mape_task_c\")\n",
    "df5=data.frame(value=mape_task_d_list,group=\"mape_task_d\")\n",
    "df6=data.frame(value=mape_task_e_list,group=\"mape_task_e\")\n",
    "df=rbind(df1,df2,df3,df4,df5,df6)\n",
    "ggplot(df, aes(factor(group), value)) + geom_boxplot() + labs( title = \"Hourly MAPE values\",x=\"Approach\",y=\"Value\")"
   ]
  },
  {
   "cell_type": "code",
   "execution_count": 38,
   "metadata": {},
   "outputs": [
    {
     "data": {
      "image/png": "[encoded data removed]",
      "text/plain": [
       "Plot with title \"MAPE values\""
      ]
     },
     "metadata": {},
     "output_type": "display_data"
    }
   ],
   "source": [
    "#Let's also show our average or general mape values with the line graph as the following for each of the approaches.\n",
    "plot(xaxt=\"n\",ylim=c(2,9),\n",
    "     c(mape_48h,mape_168h,mape_task_b,mape_task_c,mape_task_d,mape_task_e),type=\"o\",main=\"MAPE values\",xlab=\"MAPE\",ylab=\"Values\")\n",
    "axis(1,at=seq_along(c(mape_48h,mape_168h,mape_task_b,mape_task_c,mape_task_d,mape_task_e)),labels = c(\"mape_48h\",\"mape_168h\",\"mape_t_b\",\"mape_t_c\",\"mape_t_d\",\"mape_t_e\"))"
   ]
  },
  {
   "cell_type": "markdown",
   "metadata": {},
   "source": [
    "With regards to the above graphs we see that our MAPE values are, generally, around 2 and 3 and naive approach with 48 hours seems as a bad approach. It has big MAPE values changing in a big interval. However, naive approach with 168 hours seems as a very good approach with the smallest MAPE values changing in a small interval. We also see that lasso approaches are successful as well. Especially, the lasso approach in task d seems very similar to naive approach with 168 hours. We must also add that if a good cross-validation operation had been done while defining lambda value, performance of fused lasso would be better than now as well.\n",
    "\n",
    "*In the above plot mape_48h and mape_168h are mape values obtained in task a. Other mape values were obtained from task b, task c, task d (lasso) and task e (fused lasso), respectively. "
   ]
  }
 ],
 "metadata": {
  "kernelspec": {
   "display_name": "R",
   "language": "R",
   "name": "ir"
  },
  "language_info": {
   "codemirror_mode": "r",
   "file_extension": ".r",
   "mimetype": "text/x-r-source",
   "name": "R",
   "pygments_lexer": "r",
   "version": "3.6.1"
  }
 },
 "nbformat": 4,
 "nbformat_minor": 2
}
